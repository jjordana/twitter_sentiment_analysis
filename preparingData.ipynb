{
  "nbformat": 4,
  "nbformat_minor": 0,
  "metadata": {
    "colab": {
      "name": "Untitled0.ipynb",
      "provenance": [],
      "authorship_tag": "ABX9TyMtiUmcsGo4EH5DiUTLfW6K",
      "include_colab_link": true
    },
    "kernelspec": {
      "name": "python3",
      "display_name": "Python 3"
    }
  },
  "cells": [
    {
      "cell_type": "markdown",
      "metadata": {
        "id": "view-in-github",
        "colab_type": "text"
      },
      "source": [
        "<a href=\"https://colab.research.google.com/github/jjordana/twitter_sentiment_analysis/blob/master/preparingData.ipynb\" target=\"_parent\"><img src=\"https://colab.research.google.com/assets/colab-badge.svg\" alt=\"Open In Colab\"/></a>"
      ]
    },
    {
      "cell_type": "markdown",
      "metadata": {
        "id": "B1-0xr3hRajy",
        "colab_type": "text"
      },
      "source": [
        "# **SENTIMENT ANALYSIS**\n",
        "\n",
        "# ![picture](http://t-redactyl.io/figure/Vader_1.jpg)\n",
        "[Jodie Burchell site's image](http://t-redactyl.io/)\n",
        "\n",
        "\n",
        "\n"
      ]
    },
    {
      "cell_type": "markdown",
      "metadata": {
        "id": "Xt52ekUES-ch",
        "colab_type": "text"
      },
      "source": [
        "# Set-Up\n"
      ]
    },
    {
      "cell_type": "markdown",
      "metadata": {
        "id": "eA-asSSyTMIs",
        "colab_type": "text"
      },
      "source": [
        "## Kaggle's API"
      ]
    },
    {
      "cell_type": "code",
      "metadata": {
        "id": "_ngHlaFWL8po",
        "colab_type": "code",
        "colab": {}
      },
      "source": [
        " ! pip install -q kaggle\n",
        " !mkdir .kaggle"
      ],
      "execution_count": 0,
      "outputs": []
    },
    {
      "cell_type": "code",
      "metadata": {
        "id": "QSRkb3OyQfVM",
        "colab_type": "code",
        "colab": {}
      },
      "source": [
        "import json\n",
        "token = {\"username\":\"jjordana16\",\"key\":\"6e806145f7c3fdd4c09e7299f3a70d73\"}\n",
        "with open('/content/.kaggle/kaggle.json', 'w') as file:\n",
        "    json.dump(token, file)"
      ],
      "execution_count": 0,
      "outputs": []
    },
    {
      "cell_type": "code",
      "metadata": {
        "id": "XHaSVGULQ9cE",
        "colab_type": "code",
        "colab": {
          "base_uri": "https://localhost:8080/",
          "height": 51
        },
        "outputId": "70458483-2090-4903-d703-7471d655f7ec"
      },
      "source": [
        "!cp /content/.kaggle/kaggle.json ~/.kaggle/kaggle.json\n",
        "!kaggle config set -n path -v/content"
      ],
      "execution_count": 6,
      "outputs": [
        {
          "output_type": "stream",
          "text": [
            "Warning: Your Kaggle API key is readable by other users on this system! To fix this, you can run 'chmod 600 /root/.kaggle/kaggle.json'\n",
            "- path is now set to: /content\n"
          ],
          "name": "stdout"
        }
      ]
    },
    {
      "cell_type": "code",
      "metadata": {
        "id": "tdrcnSQZQv1w",
        "colab_type": "code",
        "colab": {
          "base_uri": "https://localhost:8080/",
          "height": 204
        },
        "outputId": "086cfa04-b799-436d-a5df-3f94acbde885"
      },
      "source": [
        "!kaggle competitions download -c tweet-sentiment-extraction"
      ],
      "execution_count": 7,
      "outputs": [
        {
          "output_type": "stream",
          "text": [
            "Warning: Your Kaggle API key is readable by other users on this system! To fix this, you can run 'chmod 600 /root/.kaggle/kaggle.json'\n",
            "Warning: Looks like you're using an outdated API Version, please consider updating (server 1.5.6 / client 1.5.4)\n",
            "Downloading sample_submission.csv to /content/competitions/tweet-sentiment-extraction\n",
            "  0% 0.00/41.4k [00:00<?, ?B/s]\n",
            "100% 41.4k/41.4k [00:00<00:00, 15.4MB/s]\n",
            "Downloading train.csv.zip to /content/competitions/tweet-sentiment-extraction\n",
            "  0% 0.00/1.23M [00:00<?, ?B/s]\n",
            "100% 1.23M/1.23M [00:00<00:00, 82.8MB/s]\n",
            "Downloading test.csv to /content/competitions/tweet-sentiment-extraction\n",
            "  0% 0.00/307k [00:00<?, ?B/s]\n",
            "100% 307k/307k [00:00<00:00, 85.8MB/s]\n"
          ],
          "name": "stdout"
        }
      ]
    },
    {
      "cell_type": "markdown",
      "metadata": {
        "id": "9D4fxDb_TPDX",
        "colab_type": "text"
      },
      "source": [
        "## Importing Libraries & data"
      ]
    },
    {
      "cell_type": "code",
      "metadata": {
        "id": "_-aUW0RMTRz2",
        "colab_type": "code",
        "colab": {
          "base_uri": "https://localhost:8080/",
          "height": 71
        },
        "outputId": "eae6863c-e90b-4e3d-caf4-e76c606fa04c"
      },
      "source": [
        "import numpy as np \n",
        "import pandas as pd \n",
        "import seaborn as sns\n",
        "import matplotlib.pyplot as plt\n",
        "\n",
        "import os\n",
        "import random\n",
        "import re, string\n",
        "\n",
        "from wordcloud import WordCloud, STOPWORDS\n",
        "from nltk.stem import WordNetLemmatizer\n",
        "\n",
        "## Used for creating the words graphs\n",
        "from collections import defaultdict\n",
        "import plotly.graph_objs as go\n",
        "from plotly import tools\n",
        "import plotly.offline as py\n",
        "\n",
        "# Listing all the files in our folder\n",
        "for dirname, _, filenames in os.walk('/kaggle/input'):\n",
        "    for filename in filenames:\n",
        "        print(os.path.join(dirname, filename))\n",
        "        \n",
        "import warnings\n",
        "warnings.filterwarnings(\"ignore\")"
      ],
      "execution_count": 8,
      "outputs": [
        {
          "output_type": "stream",
          "text": [
            "/usr/local/lib/python3.6/dist-packages/statsmodels/tools/_testing.py:19: FutureWarning: pandas.util.testing is deprecated. Use the functions in the public API at pandas.testing instead.\n",
            "  import pandas.util.testing as tm\n"
          ],
          "name": "stderr"
        }
      ]
    },
    {
      "cell_type": "code",
      "metadata": {
        "id": "iRxDC7c1Tg5K",
        "colab_type": "code",
        "colab": {}
      },
      "source": [
        "test = pd.read_csv('/content/competitions/tweet-sentiment-extraction/test.csv')\n",
        "train = pd.read_csv('/content/competitions/tweet-sentiment-extraction/train.csv.zip')"
      ],
      "execution_count": 0,
      "outputs": []
    }
  ]
}