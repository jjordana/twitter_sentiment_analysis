{
  "nbformat": 4,
  "nbformat_minor": 0,
  "metadata": {
    "colab": {
      "name": "Untitled0.ipynb",
      "provenance": [],
      "authorship_tag": "ABX9TyN28SKctwNIX3XHgK9v3b8z",
      "include_colab_link": true
    },
    "kernelspec": {
      "name": "python3",
      "display_name": "Python 3"
    },
    "accelerator": "GPU"
  },
  "cells": [
    {
      "cell_type": "markdown",
      "metadata": {
        "id": "view-in-github",
        "colab_type": "text"
      },
      "source": [
        "<a href=\"https://colab.research.google.com/github/jjordana/twitter_sentiment_analysis/blob/master/firstTry.ipynb\" target=\"_parent\"><img src=\"https://colab.research.google.com/assets/colab-badge.svg\" alt=\"Open In Colab\"/></a>"
      ]
    },
    {
      "cell_type": "markdown",
      "metadata": {
        "id": "B1-0xr3hRajy",
        "colab_type": "text"
      },
      "source": [
        "# **First Approach**\n",
        "\n",
        "After performing our [EDA](https://github.com/jjordana/twitter_sentiment_analysis/blob/master/EDA.ipynb), our next step is going to be to try to achieve some of the target data (_selected_text_).<br>\n",
        "We will be using the previous output data.\n"
      ]
    },
    {
      "cell_type": "markdown",
      "metadata": {
        "id": "-UY3HBz2L__T",
        "colab_type": "text"
      },
      "source": [
        "## Importin Data, Libraries & More"
      ]
    },
    {
      "cell_type": "code",
      "metadata": {
        "id": "_-aUW0RMTRz2",
        "colab_type": "code",
        "outputId": "ed137307-e846-43c1-ff53-46210fa41200",
        "colab": {
          "base_uri": "https://localhost:8080/",
          "height": 34
        }
      },
      "source": [
        "import numpy as np \n",
        "import pandas as pd \n",
        "import seaborn as sns\n",
        "import matplotlib.pyplot as plt\n",
        "\n",
        "import os\n",
        "import re\n",
        "import random\n",
        "import re, string\n",
        "\n",
        "from textblob import TextBlob\n",
        "from wordcloud import WordCloud, STOPWORDS\n",
        "from nltk.stem import WordNetLemmatizer\n",
        "import nltk\n",
        "nltk.download('vader_lexicon') # For the counterPlots\n",
        "        \n",
        "import warnings\n",
        "warnings.filterwarnings(\"ignore\")"
      ],
      "execution_count": 67,
      "outputs": [
        {
          "output_type": "stream",
          "text": [
            "[nltk_data] Downloading package vader_lexicon to /root/nltk_data...\n"
          ],
          "name": "stdout"
        }
      ]
    },
    {
      "cell_type": "code",
      "metadata": {
        "id": "iRxDC7c1Tg5K",
        "colab_type": "code",
        "colab": {}
      },
      "source": [
        "test = pd.read_csv('/content/test.csv')\n",
        "train = pd.read_csv('/content/train.csv')"
      ],
      "execution_count": 0,
      "outputs": []
    },
    {
      "cell_type": "markdown",
      "metadata": {
        "id": "IU2VBMqONCHG",
        "colab_type": "text"
      },
      "source": [
        "We can check that we have all the data comming from the previous notebook. However, as we are not focus (well, not too much) on keep exploring our data, we are going to remove the columns corresponding to the `jaccScore`, `polarityScore` and `subjectivity`.\n"
      ]
    },
    {
      "cell_type": "code",
      "metadata": {
        "id": "v320mXRaMWTH",
        "colab_type": "code",
        "outputId": "f94db699-6b42-4325-ee7a-7fac232c2402",
        "colab": {
          "base_uri": "https://localhost:8080/",
          "height": 272
        }
      },
      "source": [
        "train = train.drop(columns=['Unnamed: 0', 'jaccScore', 'polarityScore', 'subjectivity'])\n",
        "print(train['sentiment'].value_counts())\n",
        "train.head()"
      ],
      "execution_count": 56,
      "outputs": [
        {
          "output_type": "stream",
          "text": [
            "neutral     11117\n",
            "positive     8582\n",
            "negative     7781\n",
            "Name: sentiment, dtype: int64\n"
          ],
          "name": "stdout"
        },
        {
          "output_type": "execute_result",
          "data": {
            "text/html": [
              "<div>\n",
              "<style scoped>\n",
              "    .dataframe tbody tr th:only-of-type {\n",
              "        vertical-align: middle;\n",
              "    }\n",
              "\n",
              "    .dataframe tbody tr th {\n",
              "        vertical-align: top;\n",
              "    }\n",
              "\n",
              "    .dataframe thead th {\n",
              "        text-align: right;\n",
              "    }\n",
              "</style>\n",
              "<table border=\"1\" class=\"dataframe\">\n",
              "  <thead>\n",
              "    <tr style=\"text-align: right;\">\n",
              "      <th></th>\n",
              "      <th>textID</th>\n",
              "      <th>text</th>\n",
              "      <th>selected_text</th>\n",
              "      <th>sentiment</th>\n",
              "      <th>newText</th>\n",
              "      <th>newSelection</th>\n",
              "    </tr>\n",
              "  </thead>\n",
              "  <tbody>\n",
              "    <tr>\n",
              "      <th>0</th>\n",
              "      <td>cb774db0d1</td>\n",
              "      <td>I`d have responded, if I were going</td>\n",
              "      <td>I`d have responded, if I were going</td>\n",
              "      <td>neutral</td>\n",
              "      <td>i`d have responded if i were going</td>\n",
              "      <td>i`d have responded if i were going</td>\n",
              "    </tr>\n",
              "    <tr>\n",
              "      <th>1</th>\n",
              "      <td>549e992a42</td>\n",
              "      <td>Sooo SAD I will miss you here in San Diego!!!</td>\n",
              "      <td>Sooo SAD</td>\n",
              "      <td>negative</td>\n",
              "      <td>so sad i will miss you here in san diego</td>\n",
              "      <td>so sad</td>\n",
              "    </tr>\n",
              "    <tr>\n",
              "      <th>2</th>\n",
              "      <td>088c60f138</td>\n",
              "      <td>my boss is bullying me...</td>\n",
              "      <td>bullying me</td>\n",
              "      <td>negative</td>\n",
              "      <td>my boss is bullying me</td>\n",
              "      <td>bullying me</td>\n",
              "    </tr>\n",
              "    <tr>\n",
              "      <th>3</th>\n",
              "      <td>9642c003ef</td>\n",
              "      <td>what interview! leave me alone</td>\n",
              "      <td>leave me alone</td>\n",
              "      <td>negative</td>\n",
              "      <td>what interview leave me alone</td>\n",
              "      <td>leave me alone</td>\n",
              "    </tr>\n",
              "    <tr>\n",
              "      <th>4</th>\n",
              "      <td>358bd9e861</td>\n",
              "      <td>Sons of ****, why couldn`t they put them on t...</td>\n",
              "      <td>Sons of ****,</td>\n",
              "      <td>negative</td>\n",
              "      <td>sons of  why couldn`t they put them on the re...</td>\n",
              "      <td>sons of</td>\n",
              "    </tr>\n",
              "  </tbody>\n",
              "</table>\n",
              "</div>"
            ],
            "text/plain": [
              "       textID  ...                        newSelection\n",
              "0  cb774db0d1  ...  i`d have responded if i were going\n",
              "1  549e992a42  ...                              so sad\n",
              "2  088c60f138  ...                         bullying me\n",
              "3  9642c003ef  ...                      leave me alone\n",
              "4  358bd9e861  ...                            sons of \n",
              "\n",
              "[5 rows x 6 columns]"
            ]
          },
          "metadata": {
            "tags": []
          },
          "execution_count": 56
        }
      ]
    },
    {
      "cell_type": "markdown",
      "metadata": {
        "id": "3UgYpK4sNpDG",
        "colab_type": "text"
      },
      "source": [
        "We know that our dataset is a little bit `imbalanced`. This casuistics usually give us some difficulties when we try to solve it with the common algorightms. Tipical algorithms tend to focustowards the majority class, and the often do not considerate the data distribution. A good solution to deal this issue is to `oversample` or `undersample` each class. <br>\n",
        "Nevertheless, as this is our first try, we are not going to change anything, just to see what happens.\n",
        "\n",
        "In most of NLP processes, tokenization and lemmatization is a must. Therefore, let's go ahead with them. <br>\n",
        "We are going to tokenize and lemmatize either the raw data (the one comming from the [Kaggle's competition](https://www.kaggle.com/c/tweet-sentiment-extraction)) and the traeted data _newText_ and _newSelection_ (result of cleaning all the not desired characters and applying a previous lemmatization)."
      ]
    },
    {
      "cell_type": "code",
      "metadata": {
        "id": "Y1mkdjyC-7gk",
        "colab_type": "code",
        "colab": {}
      },
      "source": [
        "def tokenization(text, n_gram=1):\n",
        "    token = [token for token in str(text).lower().split(\" \") if token != \"\" if token not in STOPWORDS]\n",
        "    myToken = zip(*[token[i:] for i in range(n_gram)])\n",
        "    return [\" \".join(val) for val in myToken]\n",
        "\n",
        "lemmatizer = WordNetLemmatizer()\n",
        "\n",
        "def lemmatization(tokens):\n",
        "    lemmatized_words = []\n",
        "    for val in tokens:\n",
        "        val = lemmatizer.lemmatize(val,pos =\"a\")\n",
        "        val = lemmatizer.lemmatize(val,pos =\"n\")\n",
        "        val = lemmatizer.lemmatize(val,pos =\"v\")\n",
        "        lemmatized_words.append(val)\n",
        "    return lemmatized_words"
      ],
      "execution_count": 0,
      "outputs": []
    },
    {
      "cell_type": "code",
      "metadata": {
        "id": "x34rYXOJQeRQ",
        "colab_type": "code",
        "colab": {}
      },
      "source": [
        "# Raw Data\n",
        "train['textToken'] = train['text'].apply(tokenization)\n",
        "train['selectedTextToken'] = train['selected_text'].apply(tokenization)\n",
        "train['textToken'] = train['textToken'].apply(lemmatization)\n",
        "train['selectedTextToken'] = train['selectedTextToken'].apply(lemmatization)\n",
        "\n",
        "# Treated Data\n",
        "train['newTextToken'] = train['newText'].apply(tokenization)\n",
        "train['newSelectedTextToken'] = train['newSelection'].apply(tokenization)\n",
        "train['newTextToken'] = train['newTextToken'].apply(lemmatization)\n",
        "train['newSelectedTextToken'] = train['newSelectedTextToken'].apply(lemmatization)"
      ],
      "execution_count": 0,
      "outputs": []
    },
    {
      "cell_type": "markdown",
      "metadata": {
        "id": "AuS-mDc6SF9-",
        "colab_type": "text"
      },
      "source": [
        "How similar are our `selected_text` and `newSelecttion` tokens?<br>\n",
        "Let's plot a simple graph to have an idea comparing their jaccard score."
      ]
    },
    {
      "cell_type": "code",
      "metadata": {
        "id": "3aS9eVG7QxSq",
        "colab_type": "code",
        "colab": {}
      },
      "source": [
        "def jaccardScore(a, b):  \n",
        "  try:\n",
        "    intersect = list(set(a).intersection(b)) # Common values between A and B\n",
        "    union = len(a) + len(b) - len(intersect) # Values of A and B witout commons\n",
        "    return round((len(intersect) / union), 2)\n",
        "  except: # For those cases in which our tweet is mainly composed of STOPWORDS\n",
        "    return 1"
      ],
      "execution_count": 0,
      "outputs": []
    },
    {
      "cell_type": "code",
      "metadata": {
        "id": "hLJ7KOcWS4Xs",
        "colab_type": "code",
        "colab": {}
      },
      "source": [
        "train['jaccScore'] = train.apply(lambda x: jaccardScore(x.selectedTextToken, x.newSelectedTextToken), axis=1)"
      ],
      "execution_count": 0,
      "outputs": []
    },
    {
      "cell_type": "code",
      "metadata": {
        "id": "sMmPeNnnS_xy",
        "colab_type": "code",
        "outputId": "27c6eb77-8321-4883-f689-1a4fcf709d92",
        "colab": {
          "base_uri": "https://localhost:8080/",
          "height": 421
        }
      },
      "source": [
        "plt.figure(figsize=(12,6))\n",
        "p1=sns.distplot(train[train['sentiment']=='positive']['jaccScore'], kde_kws={\"shade\": True}, color=\"g\", hist=False).set_title('Jaccard Scores across different Sentiments')\n",
        "p2=sns.distplot(train[train['sentiment']=='negative']['jaccScore'], kde_kws={\"shade\": True}, color=\"r\", hist=False)\n",
        "\n",
        "plt.legend(labels=['positive','negative'])"
      ],
      "execution_count": 61,
      "outputs": [
        {
          "output_type": "execute_result",
          "data": {
            "text/plain": [
              "<matplotlib.legend.Legend at 0x7f750ee3d160>"
            ]
          },
          "metadata": {
            "tags": []
          },
          "execution_count": 61
        },
        {
          "output_type": "display_data",
          "data": {
            "image/png": "[encoded data removed]",
            "text/plain": [
              "<Figure size 864x432 with 1 Axes>"
            ]
          },
          "metadata": {
            "tags": [],
            "needs_background": "light"
          }
        }
      ]
    },
    {
      "cell_type": "markdown",
      "metadata": {
        "id": "B7liO4XLT5XV",
        "colab_type": "text"
      },
      "source": [
        "Interesting.<br>\n",
        "We can see that the jaccar score is well distributed, but in any case it behaves in the same way for positive and negative tweets. <br>\n",
        "Besides, is seems that in the majority of the cases our `newSelection` and `selection_text` have a high similarity.\n",
        "\n",
        "If we plot also neutral tweets, we can see that it's behavour is more arbitrary."
      ]
    },
    {
      "cell_type": "code",
      "metadata": {
        "id": "9GN3_Xs9UhBB",
        "colab_type": "code",
        "outputId": "3a62e54e-851b-4694-b08c-837422e34838",
        "colab": {
          "base_uri": "https://localhost:8080/",
          "height": 421
        }
      },
      "source": [
        "plt.figure(figsize=(12,6))\n",
        "p1=sns.distplot(train[train['sentiment']=='positive']['jaccScore'], kde_kws={\"shade\": True}, color=\"g\", hist=False).set_title('Jaccard Scores across different Sentiments')\n",
        "p2=sns.distplot(train[train['sentiment']=='negative']['jaccScore'], kde_kws={\"shade\": True}, color=\"r\", hist=False)\n",
        "p2=sns.distplot(train[train['sentiment']=='neutral']['jaccScore'], kde_kws={\"shade\": True}, color=\"orange\", hist=False)\n",
        "\n",
        "\n",
        "plt.legend(labels=['positive','negative', 'neutral'])"
      ],
      "execution_count": 62,
      "outputs": [
        {
          "output_type": "execute_result",
          "data": {
            "text/plain": [
              "<matplotlib.legend.Legend at 0x7f750ee4b9b0>"
            ]
          },
          "metadata": {
            "tags": []
          },
          "execution_count": 62
        },
        {
          "output_type": "display_data",
          "data": {
            "image/png": "[encoded data removed]",
            "text/plain": [
              "<Figure size 864x432 with 1 Axes>"
            ]
          },
          "metadata": {
            "tags": [],
            "needs_background": "light"
          }
        }
      ]
    },
    {
      "cell_type": "markdown",
      "metadata": {
        "id": "1IjeBynaKkHc",
        "colab_type": "text"
      },
      "source": [
        "We are going to try to get all the selected_words just using our tokens. <br>\n",
        "As we saw before, there is an interesting score value called `polarity_score`. It gives information about how positive, neutral or negative is a word. Besides, there is another metric `compound` which merges all the weights for the given word. \n",
        "\n",
        "By calculating our polarity score we might be able to achieve some kind of good result.<br>\n",
        "Firstly, we will tokenize our raw text __maintaning the STOPWORDS__. This time we want to keep all the data.<br>\n",
        "Secondly, we will divide our study in three main parts. The division will be performed by sentiment. As we have seen before, neutral sentiment tweets behave randomyl. Therefore we must analyze them separetly."
      ]
    },
    {
      "cell_type": "code",
      "metadata": {
        "id": "ghNhDz3w38BJ",
        "colab_type": "code",
        "colab": {}
      },
      "source": [
        "df = train[['text', 'selected_text', 'sentiment', 'newText', 'newSelection']]"
      ],
      "execution_count": 0,
      "outputs": []
    },
    {
      "cell_type": "code",
      "metadata": {
        "id": "9sJ-NHmy2o7M",
        "colab_type": "code",
        "colab": {}
      },
      "source": [
        "from nltk.sentiment.vader import SentimentIntensityAnalyzer\n",
        "sid = SentimentIntensityAnalyzer()"
      ],
      "execution_count": 0,
      "outputs": []
    },
    {
      "cell_type": "code",
      "metadata": {
        "id": "3enWywE52ENj",
        "colab_type": "code",
        "colab": {}
      },
      "source": [
        "def tokenization(text, n_gram=1):\n",
        "    token = [token for token in str(text).lower().split(\" \") if token != \"\"]\n",
        "    myToken = zip(*[token[i:] for i in range(n_gram)])\n",
        "    return [\" \".join(val) for val in myToken]\n",
        "\n",
        "# Function for getting the score of the whole tweet\n",
        "def sentiment_analyzer_scores(tokens):\n",
        "  scores = []\n",
        "  for word in tokens:\n",
        "    score = sid.polarity_scores(str(word))\n",
        "    score = score['compound']\n",
        "    scores.append(score)\n",
        "  return scores"
      ],
      "execution_count": 0,
      "outputs": []
    },
    {
      "cell_type": "code",
      "metadata": {
        "id": "cYjGsjuZ4Frb",
        "colab_type": "code",
        "colab": {}
      },
      "source": [
        "df['token'] = df['newText'].apply(tokenization)\n",
        "df['tokenScore'] = df['token'].apply(sentiment_analyzer_scores)"
      ],
      "execution_count": 0,
      "outputs": []
    },
    {
      "cell_type": "markdown",
      "metadata": {
        "id": "ucCzAFFlMq9e",
        "colab_type": "text"
      },
      "source": [
        "For each token we want to calculate its polarity score. \n",
        "If the tweet is positive or negative, we will focus on those scores that have the highest value. That value would be key for determining from where do we start getting our first seelcted word.\n",
        "\n",
        "However, how do we know how many words do we need to get? This is difficult to get.<br>\n",
        "For the moment, we will try to plot if there is any realtion between the `selected_text` and the `text` lengths. "
      ]
    },
    {
      "cell_type": "markdown",
      "metadata": {
        "id": "5B29jtgCLuTN",
        "colab_type": "text"
      },
      "source": [
        "### Positive"
      ]
    },
    {
      "cell_type": "code",
      "metadata": {
        "id": "q_10h_F9MTJi",
        "colab_type": "code",
        "colab": {}
      },
      "source": [
        "df1 = df[df.sentiment=='positive']"
      ],
      "execution_count": 0,
      "outputs": []
    },
    {
      "cell_type": "code",
      "metadata": {
        "id": "gpCK3w8-QOU_",
        "colab_type": "code",
        "colab": {}
      },
      "source": [
        "cc = pd.DataFrame(df1['text'].str.split().apply(len).value_counts())\n",
        "cc['length'] = cc.index\n",
        "cc = cc.reset_index().drop(columns=['index']).sort_values(by='length').rename(columns={'text':'count'})"
      ],
      "execution_count": 0,
      "outputs": []
    },
    {
      "cell_type": "code",
      "metadata": {
        "id": "LmxscwB0UDCj",
        "colab_type": "code",
        "colab": {
          "base_uri": "https://localhost:8080/",
          "height": 1000
        },
        "outputId": "6de100d6-2b28-4905-d42d-b023652d5248"
      },
      "source": [
        "cc"
      ],
      "execution_count": 198,
      "outputs": [
        {
          "output_type": "execute_result",
          "data": {
            "text/html": [
              "<div>\n",
              "<style scoped>\n",
              "    .dataframe tbody tr th:only-of-type {\n",
              "        vertical-align: middle;\n",
              "    }\n",
              "\n",
              "    .dataframe tbody tr th {\n",
              "        vertical-align: top;\n",
              "    }\n",
              "\n",
              "    .dataframe thead th {\n",
              "        text-align: right;\n",
              "    }\n",
              "</style>\n",
              "<table border=\"1\" class=\"dataframe\">\n",
              "  <thead>\n",
              "    <tr style=\"text-align: right;\">\n",
              "      <th></th>\n",
              "      <th>count</th>\n",
              "      <th>length</th>\n",
              "    </tr>\n",
              "  </thead>\n",
              "  <tbody>\n",
              "    <tr>\n",
              "      <th>27</th>\n",
              "      <td>46</td>\n",
              "      <td>1</td>\n",
              "    </tr>\n",
              "    <tr>\n",
              "      <th>22</th>\n",
              "      <td>161</td>\n",
              "      <td>2</td>\n",
              "    </tr>\n",
              "    <tr>\n",
              "      <th>20</th>\n",
              "      <td>247</td>\n",
              "      <td>3</td>\n",
              "    </tr>\n",
              "    <tr>\n",
              "      <th>12</th>\n",
              "      <td>344</td>\n",
              "      <td>4</td>\n",
              "    </tr>\n",
              "    <tr>\n",
              "      <th>9</th>\n",
              "      <td>374</td>\n",
              "      <td>5</td>\n",
              "    </tr>\n",
              "    <tr>\n",
              "      <th>3</th>\n",
              "      <td>451</td>\n",
              "      <td>6</td>\n",
              "    </tr>\n",
              "    <tr>\n",
              "      <th>0</th>\n",
              "      <td>492</td>\n",
              "      <td>7</td>\n",
              "    </tr>\n",
              "    <tr>\n",
              "      <th>2</th>\n",
              "      <td>475</td>\n",
              "      <td>8</td>\n",
              "    </tr>\n",
              "    <tr>\n",
              "      <th>1</th>\n",
              "      <td>487</td>\n",
              "      <td>9</td>\n",
              "    </tr>\n",
              "    <tr>\n",
              "      <th>5</th>\n",
              "      <td>425</td>\n",
              "      <td>10</td>\n",
              "    </tr>\n",
              "    <tr>\n",
              "      <th>6</th>\n",
              "      <td>422</td>\n",
              "      <td>11</td>\n",
              "    </tr>\n",
              "    <tr>\n",
              "      <th>4</th>\n",
              "      <td>429</td>\n",
              "      <td>12</td>\n",
              "    </tr>\n",
              "    <tr>\n",
              "      <th>7</th>\n",
              "      <td>418</td>\n",
              "      <td>13</td>\n",
              "    </tr>\n",
              "    <tr>\n",
              "      <th>8</th>\n",
              "      <td>389</td>\n",
              "      <td>14</td>\n",
              "    </tr>\n",
              "    <tr>\n",
              "      <th>10</th>\n",
              "      <td>370</td>\n",
              "      <td>15</td>\n",
              "    </tr>\n",
              "    <tr>\n",
              "      <th>11</th>\n",
              "      <td>369</td>\n",
              "      <td>16</td>\n",
              "    </tr>\n",
              "    <tr>\n",
              "      <th>14</th>\n",
              "      <td>304</td>\n",
              "      <td>17</td>\n",
              "    </tr>\n",
              "    <tr>\n",
              "      <th>13</th>\n",
              "      <td>316</td>\n",
              "      <td>18</td>\n",
              "    </tr>\n",
              "    <tr>\n",
              "      <th>16</th>\n",
              "      <td>280</td>\n",
              "      <td>19</td>\n",
              "    </tr>\n",
              "    <tr>\n",
              "      <th>15</th>\n",
              "      <td>290</td>\n",
              "      <td>20</td>\n",
              "    </tr>\n",
              "    <tr>\n",
              "      <th>19</th>\n",
              "      <td>252</td>\n",
              "      <td>21</td>\n",
              "    </tr>\n",
              "    <tr>\n",
              "      <th>18</th>\n",
              "      <td>267</td>\n",
              "      <td>22</td>\n",
              "    </tr>\n",
              "    <tr>\n",
              "      <th>17</th>\n",
              "      <td>269</td>\n",
              "      <td>23</td>\n",
              "    </tr>\n",
              "    <tr>\n",
              "      <th>21</th>\n",
              "      <td>219</td>\n",
              "      <td>24</td>\n",
              "    </tr>\n",
              "    <tr>\n",
              "      <th>23</th>\n",
              "      <td>160</td>\n",
              "      <td>25</td>\n",
              "    </tr>\n",
              "    <tr>\n",
              "      <th>24</th>\n",
              "      <td>128</td>\n",
              "      <td>26</td>\n",
              "    </tr>\n",
              "    <tr>\n",
              "      <th>25</th>\n",
              "      <td>100</td>\n",
              "      <td>27</td>\n",
              "    </tr>\n",
              "    <tr>\n",
              "      <th>26</th>\n",
              "      <td>48</td>\n",
              "      <td>28</td>\n",
              "    </tr>\n",
              "    <tr>\n",
              "      <th>28</th>\n",
              "      <td>24</td>\n",
              "      <td>29</td>\n",
              "    </tr>\n",
              "    <tr>\n",
              "      <th>29</th>\n",
              "      <td>16</td>\n",
              "      <td>30</td>\n",
              "    </tr>\n",
              "    <tr>\n",
              "      <th>30</th>\n",
              "      <td>7</td>\n",
              "      <td>31</td>\n",
              "    </tr>\n",
              "    <tr>\n",
              "      <th>31</th>\n",
              "      <td>2</td>\n",
              "      <td>32</td>\n",
              "    </tr>\n",
              "    <tr>\n",
              "      <th>32</th>\n",
              "      <td>1</td>\n",
              "      <td>33</td>\n",
              "    </tr>\n",
              "  </tbody>\n",
              "</table>\n",
              "</div>"
            ],
            "text/plain": [
              "    count  length\n",
              "27     46       1\n",
              "22    161       2\n",
              "20    247       3\n",
              "12    344       4\n",
              "9     374       5\n",
              "3     451       6\n",
              "0     492       7\n",
              "2     475       8\n",
              "1     487       9\n",
              "5     425      10\n",
              "6     422      11\n",
              "4     429      12\n",
              "7     418      13\n",
              "8     389      14\n",
              "10    370      15\n",
              "11    369      16\n",
              "14    304      17\n",
              "13    316      18\n",
              "16    280      19\n",
              "15    290      20\n",
              "19    252      21\n",
              "18    267      22\n",
              "17    269      23\n",
              "21    219      24\n",
              "23    160      25\n",
              "24    128      26\n",
              "25    100      27\n",
              "26     48      28\n",
              "28     24      29\n",
              "29     16      30\n",
              "30      7      31\n",
              "31      2      32\n",
              "32      1      33"
            ]
          },
          "metadata": {
            "tags": []
          },
          "execution_count": 198
        }
      ]
    },
    {
      "cell_type": "code",
      "metadata": {
        "id": "bDWtEUqOE9DH",
        "colab_type": "code",
        "colab": {
          "base_uri": "https://localhost:8080/",
          "height": 414
        },
        "outputId": "c5773e94-247f-4d8c-dd3e-17aa619d8a83"
      },
      "source": [
        "count = pd.DataFrame(df1['selected_text'].str.split().apply(len).value_counts())\n",
        "count['length'] = count.index\n",
        "count = count.reset_index().drop(columns=['index']).sort_values(by='length').rename(columns={'selected_text':'count'})\n",
        "\n",
        "fig, ax1 = plt.subplots(figsize=(10,6))\n",
        "color = 'tab:green'\n",
        "#bar plot creation\n",
        "ax1.set_title('Positive selected_text and text length count', fontsize=16)\n",
        "ax1.set_xlabel('Length', fontsize=16)\n",
        "ax1.set_ylabel('Count', fontsize=16)\n",
        "ax1 = sns.barplot(x='length', y=\"count\", data=count, palette='summer')\n",
        "ax1.tick_params(axis='y')\n",
        "#specify we want to share the same x-axis\n",
        "ax2 = ax1.twinx()\n",
        "color = 'tab:red'\n",
        "#line plot creation\n",
        "ax2 = sns.lineplot(x='length', y='count', data = cc, color=color)\n",
        "ax2.tick_params(axis='x')\n",
        "\n",
        "#show plot\n",
        "plt.show()\n",
        "\n",
        "# my_palette = sns.color_palette(\"muted\")\n",
        "# sns.set(rc={'figure.figsize':(10, 7)})\n",
        "# sns.barplot(x='length', y=\"count\", data=count, palette=my_palette) .set_title('Positive selected_text Word Count', fontsize=16)\n"
      ],
      "execution_count": 215,
      "outputs": [
        {
          "output_type": "display_data",
          "data": {
            "image/png": "[encoded data removed]",
            "text/plain": [
              "<Figure size 720x432 with 2 Axes>"
            ]
          },
          "metadata": {
            "tags": []
          }
        }
      ]
    },
    {
      "cell_type": "code",
      "metadata": {
        "id": "AqJDp50oPox0",
        "colab_type": "code",
        "colab": {
          "base_uri": "https://localhost:8080/",
          "height": 34
        },
        "outputId": "739487f0-cbcc-42d8-82e4-43ba76e2e3d0"
      },
      "source": [
        "\"Wow... u just became cooler.\".split()"
      ],
      "execution_count": 171,
      "outputs": [
        {
          "output_type": "execute_result",
          "data": {
            "text/plain": [
              "['Wow...', 'u', 'just', 'became', 'cooler.']"
            ]
          },
          "metadata": {
            "tags": []
          },
          "execution_count": 171
        }
      ]
    },
    {
      "cell_type": "code",
      "metadata": {
        "id": "5l0NyU2THz7w",
        "colab_type": "code",
        "colab": {}
      },
      "source": [
        "def decider(tokensScore, sentiment):\n",
        "  if sentiment == 'positive':\n",
        "    values = [item for item in tokensScore if item >= 0]\n",
        "    maxVal = max(values)"
      ],
      "execution_count": 0,
      "outputs": []
    },
    {
      "cell_type": "code",
      "metadata": {
        "id": "m5ejUosNJo8N",
        "colab_type": "code",
        "colab": {
          "base_uri": "https://localhost:8080/",
          "height": 34
        },
        "outputId": "d7070a1a-2d2a-4573-9363-91a85fb12d70"
      },
      "source": [
        "a = [item for item in [0.2023, -0.3182, 0.0, 0.0, 0.0, 0.4019, 0.0] if item >= 0]\n",
        "print(max([0.2023, -0.3182, 0.0, 0.0, 0.0, 0.4019, 0.0]))"
      ],
      "execution_count": 161,
      "outputs": [
        {
          "output_type": "stream",
          "text": [
            "0.4019\n"
          ],
          "name": "stdout"
        }
      ]
    },
    {
      "cell_type": "code",
      "metadata": {
        "id": "ONBtbqSU6-pV",
        "colab_type": "code",
        "colab": {
          "base_uri": "https://localhost:8080/",
          "height": 555
        },
        "outputId": "8161bd95-2f3b-4071-8a7f-01ee7afe3629"
      },
      "source": [
        "df1 = df[df.sentiment=='positive']\n",
        "df1"
      ],
      "execution_count": 153,
      "outputs": [
        {
          "output_type": "execute_result",
          "data": {
            "text/html": [
              "<div>\n",
              "<style scoped>\n",
              "    .dataframe tbody tr th:only-of-type {\n",
              "        vertical-align: middle;\n",
              "    }\n",
              "\n",
              "    .dataframe tbody tr th {\n",
              "        vertical-align: top;\n",
              "    }\n",
              "\n",
              "    .dataframe thead th {\n",
              "        text-align: right;\n",
              "    }\n",
              "</style>\n",
              "<table border=\"1\" class=\"dataframe\">\n",
              "  <thead>\n",
              "    <tr style=\"text-align: right;\">\n",
              "      <th></th>\n",
              "      <th>text</th>\n",
              "      <th>selected_text</th>\n",
              "      <th>sentiment</th>\n",
              "      <th>newText</th>\n",
              "      <th>newSelection</th>\n",
              "      <th>token</th>\n",
              "      <th>tokenScore</th>\n",
              "    </tr>\n",
              "  </thead>\n",
              "  <tbody>\n",
              "    <tr>\n",
              "      <th>6</th>\n",
              "      <td>2am feedings for the baby are fun when he is a...</td>\n",
              "      <td>fun</td>\n",
              "      <td>positive</td>\n",
              "      <td>2am feedings for the baby are fun when he is a...</td>\n",
              "      <td>fun</td>\n",
              "      <td>[2am, feedings, for, the, baby, are, fun, when...</td>\n",
              "      <td>[0.0, 0.0, 0.0, 0.0, 0.0, 0.0, 0.5106, 0.0, 0....</td>\n",
              "    </tr>\n",
              "    <tr>\n",
              "      <th>9</th>\n",
              "      <td>Journey!? Wow... u just became cooler.  hehe....</td>\n",
              "      <td>Wow... u just became cooler.</td>\n",
              "      <td>positive</td>\n",
              "      <td>journey wow u just became cooler  hehe is tha...</td>\n",
              "      <td>wow u just became cooler</td>\n",
              "      <td>[journey, wow, u, just, became, cooler, hehe, ...</td>\n",
              "      <td>[0.0, 0.5859, 0.0, 0.0, 0.0, 0.0, 0.0, 0.0, 0....</td>\n",
              "    </tr>\n",
              "    <tr>\n",
              "      <th>11</th>\n",
              "      <td>I really really like the song Love Story by Ta...</td>\n",
              "      <td>like</td>\n",
              "      <td>positive</td>\n",
              "      <td>i really really like the song love story by ta...</td>\n",
              "      <td>like</td>\n",
              "      <td>[i, really, really, like, the, song, love, sto...</td>\n",
              "      <td>[0.0, 0.0, 0.0, 0.3612, 0.0, 0.0, 0.6369, 0.0,...</td>\n",
              "    </tr>\n",
              "    <tr>\n",
              "      <th>21</th>\n",
              "      <td>Playing Ghost Online is really interesting. Th...</td>\n",
              "      <td>interesting.</td>\n",
              "      <td>positive</td>\n",
              "      <td>playing ghost online is really interesting the...</td>\n",
              "      <td>interesting</td>\n",
              "      <td>[playing, ghost, online, is, really, interesti...</td>\n",
              "      <td>[0.2023, -0.3182, 0.0, 0.0, 0.0, 0.4019, 0.0, ...</td>\n",
              "    </tr>\n",
              "    <tr>\n",
              "      <th>25</th>\n",
              "      <td>the free fillin` app on my ipod is fun, im add...</td>\n",
              "      <td>the free fillin` app on my ipod is fun, im add...</td>\n",
              "      <td>positive</td>\n",
              "      <td>the free fillin` app on my ipod is fun im addi...</td>\n",
              "      <td>the free fillin` app on my ipod is fun im addi...</td>\n",
              "      <td>[the, free, fillin`, app, on, my, ipod, is, fu...</td>\n",
              "      <td>[0.0, 0.5106, 0.0, 0.0, 0.0, 0.0, 0.0, 0.0, 0....</td>\n",
              "    </tr>\n",
              "    <tr>\n",
              "      <th>...</th>\n",
              "      <td>...</td>\n",
              "      <td>...</td>\n",
              "      <td>...</td>\n",
              "      <td>...</td>\n",
              "      <td>...</td>\n",
              "      <td>...</td>\n",
              "      <td>...</td>\n",
              "    </tr>\n",
              "    <tr>\n",
              "      <th>27466</th>\n",
              "      <td>morning twit-friends! welcome to my new followers</td>\n",
              "      <td>welcome</td>\n",
              "      <td>positive</td>\n",
              "      <td>morning twitfriends welcome to my new followers</td>\n",
              "      <td>welcome</td>\n",
              "      <td>[morning, twitfriends, welcome, to, my, new, f...</td>\n",
              "      <td>[0.0, 0.0, 0.4588, 0.0, 0.0, 0.0, 0.0]</td>\n",
              "    </tr>\n",
              "    <tr>\n",
              "      <th>27473</th>\n",
              "      <td>So I get up early and I feel good about the da...</td>\n",
              "      <td>I feel good ab</td>\n",
              "      <td>positive</td>\n",
              "      <td>so i get up early and i feel good about the da...</td>\n",
              "      <td>i feel good ab</td>\n",
              "      <td>[so, i, get, up, early, and, i, feel, good, ab...</td>\n",
              "      <td>[0.0, 0.0, 0.0, 0.0, 0.0, 0.0, 0.0, 0.0, 0.440...</td>\n",
              "    </tr>\n",
              "    <tr>\n",
              "      <th>27474</th>\n",
              "      <td>enjoy ur night</td>\n",
              "      <td>enjoy</td>\n",
              "      <td>positive</td>\n",
              "      <td>enjoy ur night</td>\n",
              "      <td>enjoy</td>\n",
              "      <td>[enjoy, ur, night]</td>\n",
              "      <td>[0.4939, 0.0, 0.0]</td>\n",
              "    </tr>\n",
              "    <tr>\n",
              "      <th>27477</th>\n",
              "      <td>Yay good for both of you. Enjoy the break - y...</td>\n",
              "      <td>Yay good for both of you.</td>\n",
              "      <td>positive</td>\n",
              "      <td>yay good for both of you enjoy the break  you...</td>\n",
              "      <td>yay good for both of you</td>\n",
              "      <td>[yay, good, for, both, of, you, enjoy, the, br...</td>\n",
              "      <td>[0.5267, 0.4404, 0.0, 0.0, 0.0, 0.0, 0.4939, 0...</td>\n",
              "    </tr>\n",
              "    <tr>\n",
              "      <th>27478</th>\n",
              "      <td>But it was worth it  ****.</td>\n",
              "      <td>But it was worth it  ****.</td>\n",
              "      <td>positive</td>\n",
              "      <td>but it was worth it</td>\n",
              "      <td>but it was worth it</td>\n",
              "      <td>[but, it, was, worth, it]</td>\n",
              "      <td>[0.0, 0.0, 0.0, 0.2263, 0.0]</td>\n",
              "    </tr>\n",
              "  </tbody>\n",
              "</table>\n",
              "<p>8582 rows × 7 columns</p>\n",
              "</div>"
            ],
            "text/plain": [
              "                                                    text  ...                                         tokenScore\n",
              "6      2am feedings for the baby are fun when he is a...  ...  [0.0, 0.0, 0.0, 0.0, 0.0, 0.0, 0.5106, 0.0, 0....\n",
              "9       Journey!? Wow... u just became cooler.  hehe....  ...  [0.0, 0.5859, 0.0, 0.0, 0.0, 0.0, 0.0, 0.0, 0....\n",
              "11     I really really like the song Love Story by Ta...  ...  [0.0, 0.0, 0.0, 0.3612, 0.0, 0.0, 0.6369, 0.0,...\n",
              "21     Playing Ghost Online is really interesting. Th...  ...  [0.2023, -0.3182, 0.0, 0.0, 0.0, 0.4019, 0.0, ...\n",
              "25     the free fillin` app on my ipod is fun, im add...  ...  [0.0, 0.5106, 0.0, 0.0, 0.0, 0.0, 0.0, 0.0, 0....\n",
              "...                                                  ...  ...                                                ...\n",
              "27466  morning twit-friends! welcome to my new followers  ...             [0.0, 0.0, 0.4588, 0.0, 0.0, 0.0, 0.0]\n",
              "27473  So I get up early and I feel good about the da...  ...  [0.0, 0.0, 0.0, 0.0, 0.0, 0.0, 0.0, 0.0, 0.440...\n",
              "27474                                     enjoy ur night  ...                                 [0.4939, 0.0, 0.0]\n",
              "27477   Yay good for both of you. Enjoy the break - y...  ...  [0.5267, 0.4404, 0.0, 0.0, 0.0, 0.0, 0.4939, 0...\n",
              "27478                         But it was worth it  ****.  ...                       [0.0, 0.0, 0.0, 0.2263, 0.0]\n",
              "\n",
              "[8582 rows x 7 columns]"
            ]
          },
          "metadata": {
            "tags": []
          },
          "execution_count": 153
        }
      ]
    },
    {
      "cell_type": "code",
      "metadata": {
        "id": "HrSQT7226pt1",
        "colab_type": "code",
        "colab": {
          "base_uri": "https://localhost:8080/",
          "height": 512
        },
        "outputId": "799b56cc-6943-4372-e2d6-762d81153d64"
      },
      "source": [
        "df[df['sentiment']!='neutral'][20:30]"
      ],
      "execution_count": 91,
      "outputs": [
        {
          "output_type": "execute_result",
          "data": {
            "text/html": [
              "<div>\n",
              "<style scoped>\n",
              "    .dataframe tbody tr th:only-of-type {\n",
              "        vertical-align: middle;\n",
              "    }\n",
              "\n",
              "    .dataframe tbody tr th {\n",
              "        vertical-align: top;\n",
              "    }\n",
              "\n",
              "    .dataframe thead th {\n",
              "        text-align: right;\n",
              "    }\n",
              "</style>\n",
              "<table border=\"1\" class=\"dataframe\">\n",
              "  <thead>\n",
              "    <tr style=\"text-align: right;\">\n",
              "      <th></th>\n",
              "      <th>text</th>\n",
              "      <th>selected_text</th>\n",
              "      <th>sentiment</th>\n",
              "      <th>newText</th>\n",
              "      <th>newSelection</th>\n",
              "      <th>token</th>\n",
              "      <th>tokenScore</th>\n",
              "    </tr>\n",
              "  </thead>\n",
              "  <tbody>\n",
              "    <tr>\n",
              "      <th>31</th>\n",
              "      <td>i hope unni will make the audition . fighting ...</td>\n",
              "      <td>hope</td>\n",
              "      <td>positive</td>\n",
              "      <td>i hope unni will make the audition  fighting d...</td>\n",
              "      <td>hope</td>\n",
              "      <td>[i, hope, unni, will, make, the, audition, fig...</td>\n",
              "      <td>[0.0, 0.4404, 0.0, 0.0, 0.0, 0.0, 0.0, -0.3612...</td>\n",
              "    </tr>\n",
              "    <tr>\n",
              "      <th>32</th>\n",
              "      <td>If it is any consolation I got my BMI tested ...</td>\n",
              "      <td>well so much for being unhappy for about 10 mi...</td>\n",
              "      <td>negative</td>\n",
              "      <td>if it is any consolation i got my bmi tested ...</td>\n",
              "      <td>well so much for being unhappy for about 10 mi...</td>\n",
              "      <td>[if, it, is, any, consolation, i, got, my, bmi...</td>\n",
              "      <td>[0.0, 0.0, 0.0, 0.0, 0.0, 0.0, 0.0, 0.0, 0.0, ...</td>\n",
              "    </tr>\n",
              "    <tr>\n",
              "      <th>33</th>\n",
              "      <td>That`s very funny.  Cute kids.</td>\n",
              "      <td>funny.</td>\n",
              "      <td>positive</td>\n",
              "      <td>that`s very funny  cute kids</td>\n",
              "      <td>funny</td>\n",
              "      <td>[that`s, very, funny, cute, kids]</td>\n",
              "      <td>[0.0, 0.0, 0.4404, 0.4588, 0.0]</td>\n",
              "    </tr>\n",
              "    <tr>\n",
              "      <th>36</th>\n",
              "      <td>Born and raised in NYC and living in Texas for...</td>\n",
              "      <td>miss</td>\n",
              "      <td>negative</td>\n",
              "      <td>born and raised in nyc and living in texas for...</td>\n",
              "      <td>miss</td>\n",
              "      <td>[born, and, raised, in, nyc, and, living, in, ...</td>\n",
              "      <td>[0.0, 0.0, 0.0, 0.0, 0.0, 0.0, 0.0, 0.0, 0.0, ...</td>\n",
              "    </tr>\n",
              "    <tr>\n",
              "      <th>38</th>\n",
              "      <td>i`m soooooo sleeeeepy!!! the last day o` schoo...</td>\n",
              "      <td>soooooo sleeeeepy!!!</td>\n",
              "      <td>negative</td>\n",
              "      <td>i`m so slepy the last day o` school was todays...</td>\n",
              "      <td>so slepy</td>\n",
              "      <td>[i`m, so, slepy, the, last, day, o`, school, w...</td>\n",
              "      <td>[0.0, 0.0, 0.0, 0.0, 0.0, 0.0, 0.0, 0.0, 0.0, ...</td>\n",
              "    </tr>\n",
              "    <tr>\n",
              "      <th>39</th>\n",
              "      <td>A little happy for the wine jeje ok it`sm my f...</td>\n",
              "      <td>A little happy fo</td>\n",
              "      <td>positive</td>\n",
              "      <td>a little happy for the wine jeje ok it`sm my f...</td>\n",
              "      <td>a little happy fo</td>\n",
              "      <td>[a, little, happy, for, the, wine, jeje, ok, i...</td>\n",
              "      <td>[0.0, 0.0, 0.5719, 0.0, 0.0, 0.0, 0.0, 0.296, ...</td>\n",
              "    </tr>\n",
              "    <tr>\n",
              "      <th>41</th>\n",
              "      <td>im an avid fan of **** magazine and i love you...</td>\n",
              "      <td>avid fan of</td>\n",
              "      <td>positive</td>\n",
              "      <td>im an avid fan of  magazine and i love your ma...</td>\n",
              "      <td>avid fan of</td>\n",
              "      <td>[im, an, avid, fan, of, magazine, and, i, love...</td>\n",
              "      <td>[0.0, 0.0, 0.296, 0.3182, 0.0, 0.0, 0.0, 0.0, ...</td>\n",
              "    </tr>\n",
              "    <tr>\n",
              "      <th>44</th>\n",
              "      <td>I love to! But I`m only available from 5pm.  ...</td>\n",
              "      <td>I love to!</td>\n",
              "      <td>positive</td>\n",
              "      <td>i love to but i`m only available from 5pm  an...</td>\n",
              "      <td>i love to</td>\n",
              "      <td>[i, love, to, but, i`m, only, available, from,...</td>\n",
              "      <td>[0.0, 0.6369, 0.0, 0.0, 0.0, 0.0, 0.0, 0.0, 0....</td>\n",
              "    </tr>\n",
              "    <tr>\n",
              "      <th>46</th>\n",
              "      <td>egh blah and boooooooooooo i dunno wanna go to...</td>\n",
              "      <td>SUCKKKKKK</td>\n",
              "      <td>negative</td>\n",
              "      <td>egh blah and bo i dunno wanna go to work  hang...</td>\n",
              "      <td>suckkkkkk</td>\n",
              "      <td>[egh, blah, and, bo, i, dunno, wanna, go, to, ...</td>\n",
              "      <td>[0.0, -0.1027, 0.0, 0.0, 0.0, 0.0, 0.0, 0.0, 0...</td>\n",
              "    </tr>\n",
              "    <tr>\n",
              "      <th>48</th>\n",
              "      <td>i donbt like to peel prawns, i also dont like ...</td>\n",
              "      <td>dont like go</td>\n",
              "      <td>negative</td>\n",
              "      <td>i donbt like to peel prawns i also dont like g...</td>\n",
              "      <td>dont like go</td>\n",
              "      <td>[i, donbt, like, to, peel, prawns, i, also, do...</td>\n",
              "      <td>[0.0, 0.0, 0.3612, 0.0, 0.0, 0.0, 0.0, 0.0, 0....</td>\n",
              "    </tr>\n",
              "  </tbody>\n",
              "</table>\n",
              "</div>"
            ],
            "text/plain": [
              "                                                 text  ...                                         tokenScore\n",
              "31  i hope unni will make the audition . fighting ...  ...  [0.0, 0.4404, 0.0, 0.0, 0.0, 0.0, 0.0, -0.3612...\n",
              "32   If it is any consolation I got my BMI tested ...  ...  [0.0, 0.0, 0.0, 0.0, 0.0, 0.0, 0.0, 0.0, 0.0, ...\n",
              "33                     That`s very funny.  Cute kids.  ...                    [0.0, 0.0, 0.4404, 0.4588, 0.0]\n",
              "36  Born and raised in NYC and living in Texas for...  ...  [0.0, 0.0, 0.0, 0.0, 0.0, 0.0, 0.0, 0.0, 0.0, ...\n",
              "38  i`m soooooo sleeeeepy!!! the last day o` schoo...  ...  [0.0, 0.0, 0.0, 0.0, 0.0, 0.0, 0.0, 0.0, 0.0, ...\n",
              "39  A little happy for the wine jeje ok it`sm my f...  ...  [0.0, 0.0, 0.5719, 0.0, 0.0, 0.0, 0.0, 0.296, ...\n",
              "41  im an avid fan of **** magazine and i love you...  ...  [0.0, 0.0, 0.296, 0.3182, 0.0, 0.0, 0.0, 0.0, ...\n",
              "44   I love to! But I`m only available from 5pm.  ...  ...  [0.0, 0.6369, 0.0, 0.0, 0.0, 0.0, 0.0, 0.0, 0....\n",
              "46  egh blah and boooooooooooo i dunno wanna go to...  ...  [0.0, -0.1027, 0.0, 0.0, 0.0, 0.0, 0.0, 0.0, 0...\n",
              "48  i donbt like to peel prawns, i also dont like ...  ...  [0.0, 0.0, 0.3612, 0.0, 0.0, 0.0, 0.0, 0.0, 0....\n",
              "\n",
              "[10 rows x 7 columns]"
            ]
          },
          "metadata": {
            "tags": []
          },
          "execution_count": 91
        }
      ]
    },
    {
      "cell_type": "code",
      "metadata": {
        "id": "QHBDYj-I24xq",
        "colab_type": "code",
        "colab": {
          "base_uri": "https://localhost:8080/",
          "height": 187
        },
        "outputId": "989b38bd-3256-495e-9503-45652d1f6fdf"
      },
      "source": [
        "for val in ['so', 'sad', 'i', 'will ', 'miss', 'you', 'here', 'in', 'san', 'diego']:\n",
        "  print(val, \": \", sid.polarity_scores(str(val)))"
      ],
      "execution_count": 73,
      "outputs": [
        {
          "output_type": "stream",
          "text": [
            "so :  {'neg': 0.0, 'neu': 1.0, 'pos': 0.0, 'compound': 0.0}\n",
            "sad :  {'neg': 1.0, 'neu': 0.0, 'pos': 0.0, 'compound': -0.4767}\n",
            "i :  {'neg': 0.0, 'neu': 0.0, 'pos': 0.0, 'compound': 0.0}\n",
            "will  :  {'neg': 0.0, 'neu': 1.0, 'pos': 0.0, 'compound': 0.0}\n",
            "miss :  {'neg': 1.0, 'neu': 0.0, 'pos': 0.0, 'compound': -0.1531}\n",
            "you :  {'neg': 0.0, 'neu': 1.0, 'pos': 0.0, 'compound': 0.0}\n",
            "here :  {'neg': 0.0, 'neu': 1.0, 'pos': 0.0, 'compound': 0.0}\n",
            "in :  {'neg': 0.0, 'neu': 1.0, 'pos': 0.0, 'compound': 0.0}\n",
            "san :  {'neg': 0.0, 'neu': 1.0, 'pos': 0.0, 'compound': 0.0}\n",
            "diego :  {'neg': 0.0, 'neu': 1.0, 'pos': 0.0, 'compound': 0.0}\n"
          ],
          "name": "stdout"
        }
      ]
    }
  ]
}