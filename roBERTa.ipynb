{
  "nbformat": 4,
  "nbformat_minor": 0,
  "metadata": {
    "colab": {
      "name": "Untitled0.ipynb",
      "provenance": [],
      "toc_visible": true,
      "authorship_tag": "ABX9TyMM3L8HLqutNt0CC1dokzt0",
      "include_colab_link": true
    },
    "kernelspec": {
      "name": "python3",
      "display_name": "Python 3"
    },
    "accelerator": "GPU"
  },
  "cells": [
    {
      "cell_type": "markdown",
      "metadata": {
        "id": "view-in-github",
        "colab_type": "text"
      },
      "source": [
        "<a href=\"https://colab.research.google.com/github/jjordana/twitter_sentiment_analysis/blob/master/roBERTa.ipynb\" target=\"_parent\"><img src=\"https://colab.research.google.com/assets/colab-badge.svg\" alt=\"Open In Colab\"/></a>"
      ]
    },
    {
      "cell_type": "markdown",
      "metadata": {
        "id": "icSLOPoEpOV6",
        "colab_type": "text"
      },
      "source": [
        "# roBERTa's approach\n",
        "\n",
        "A new way to try to solve this [Kaggles's competition](https://www.kaggle.com/c/tweet-sentiment-extraction) is going to be thorugh the use of Facebook **roBERTa's neural network**. <br><br>\n",
        "This NN is based on Google's BERT NN, but presents some modifications. It stands for robustly optimized BERT approach. <br>\n",
        "Its main *power* is that it dinamized the tokens, meaning that during the different *epochs* they change, getting the calculated ones. <br>\n",
        "For more info, please check this interesting [article](https://towardsdatascience.com/bert-roberta-distilbert-xlnet-which-one-to-use-3d5ab82ba5f8)\n",
        "<br><br>\n",
        "\n",
        "For this first approach we are going to get our data directly from Kaggle, without any transformation.<br>\n",
        "I have learnt a lot of **roBERTa** thanks to [Chris Deotte's](https://www.kaggle.com/cdeotte/tensorflow-roberta-0-705) notebook. Besides, **hugginFace** site has eveyrthing quite well explained. I deeply recommend to have a look on their [web](https://huggingface.co/transformers/model_doc/roberta.html)."
      ]
    },
    {
      "cell_type": "markdown",
      "metadata": {
        "id": "eA-asSSyTMIs",
        "colab_type": "text"
      },
      "source": [
        "## Kaggle's API"
      ]
    },
    {
      "cell_type": "code",
      "metadata": {
        "id": "_ngHlaFWL8po",
        "colab_type": "code",
        "outputId": "7d2e600d-ccd3-4420-a580-e84d5a49fd7c",
        "colab": {
          "base_uri": "https://localhost:8080/",
          "height": 34
        }
      },
      "source": [
        "!pip install -q kaggle\n",
        "!mkdir .kaggle"
      ],
      "execution_count": 0,
      "outputs": [
        {
          "output_type": "stream",
          "text": [
            "mkdir: cannot create directory ‘.kaggle’: File exists\n"
          ],
          "name": "stdout"
        }
      ]
    },
    {
      "cell_type": "code",
      "metadata": {
        "id": "QSRkb3OyQfVM",
        "colab_type": "code",
        "colab": {}
      },
      "source": [
        "import json\n",
        "token = {\"username\":\"\",\"key\":\"\"}\n",
        "with open('/content/.kaggle/kaggle.json', 'w') as file:\n",
        "    json.dump(token, file)"
      ],
      "execution_count": 0,
      "outputs": []
    },
    {
      "cell_type": "code",
      "metadata": {
        "id": "XHaSVGULQ9cE",
        "colab_type": "code",
        "outputId": "780bd6ea-7c01-47de-9769-074ce79a75be",
        "colab": {
          "base_uri": "https://localhost:8080/",
          "height": 51
        }
      },
      "source": [
        "!cp /content/.kaggle/kaggle.json ~/.kaggle/kaggle.json\n",
        "!kaggle config set -n path -v/content"
      ],
      "execution_count": 0,
      "outputs": [
        {
          "output_type": "stream",
          "text": [
            "Warning: Your Kaggle API key is readable by other users on this system! To fix this, you can run 'chmod 600 /root/.kaggle/kaggle.json'\n",
            "- path is now set to: /content\n"
          ],
          "name": "stdout"
        }
      ]
    },
    {
      "cell_type": "code",
      "metadata": {
        "id": "tdrcnSQZQv1w",
        "colab_type": "code",
        "outputId": "84f43b2e-05d7-4eba-8f3c-002409ef6c71",
        "colab": {
          "base_uri": "https://localhost:8080/",
          "height": 102
        }
      },
      "source": [
        "!kaggle competitions download -c tweet-sentiment-extraction"
      ],
      "execution_count": 0,
      "outputs": [
        {
          "output_type": "stream",
          "text": [
            "Warning: Your Kaggle API key is readable by other users on this system! To fix this, you can run 'chmod 600 /root/.kaggle/kaggle.json'\n",
            "Warning: Looks like you're using an outdated API Version, please consider updating (server 1.5.6 / client 1.5.4)\n",
            "test.csv: Skipping, found more recently modified local copy (use --force to force download)\n",
            "sample_submission.csv: Skipping, found more recently modified local copy (use --force to force download)\n",
            "train.csv.zip: Skipping, found more recently modified local copy (use --force to force download)\n"
          ],
          "name": "stdout"
        }
      ]
    },
    {
      "cell_type": "markdown",
      "metadata": {
        "id": "9D4fxDb_TPDX",
        "colab_type": "text"
      },
      "source": [
        "## Importing Libraries & data"
      ]
    },
    {
      "cell_type": "code",
      "metadata": {
        "id": "tATfE7r5i7ij",
        "colab_type": "code",
        "outputId": "e4006946-4e66-4073-a745-4b6b3e9c624e",
        "colab": {
          "base_uri": "https://localhost:8080/",
          "height": 34
        }
      },
      "source": [
        "import pandas as pd\n",
        "import numpy as np\n",
        "import requests\n",
        "import urllib.request\n",
        "\n",
        "import tensorflow as tf\n",
        "print('TF version',tf.__version__)\n",
        "import tensorflow.keras.backend as K\n",
        "\n",
        "from sklearn.model_selection import StratifiedKFold"
      ],
      "execution_count": 0,
      "outputs": [
        {
          "output_type": "stream",
          "text": [
            "TF version 2.2.0\n"
          ],
          "name": "stdout"
        }
      ]
    },
    {
      "cell_type": "code",
      "metadata": {
        "id": "WLwZ4tVqjBC9",
        "colab_type": "code",
        "outputId": "f43eca84-4ab6-4386-dc01-2cd83f2de359",
        "colab": {
          "base_uri": "https://localhost:8080/",
          "height": 306
        }
      },
      "source": [
        "pip install transformers"
      ],
      "execution_count": 0,
      "outputs": [
        {
          "output_type": "stream",
          "text": [
            "Requirement already satisfied: transformers in /usr/local/lib/python3.6/dist-packages (2.9.1)\n",
            "Requirement already satisfied: regex!=2019.12.17 in /usr/local/lib/python3.6/dist-packages (from transformers) (2019.12.20)\n",
            "Requirement already satisfied: sacremoses in /usr/local/lib/python3.6/dist-packages (from transformers) (0.0.43)\n",
            "Requirement already satisfied: dataclasses; python_version < \"3.7\" in /usr/local/lib/python3.6/dist-packages (from transformers) (0.7)\n",
            "Requirement already satisfied: requests in /usr/local/lib/python3.6/dist-packages (from transformers) (2.23.0)\n",
            "Requirement already satisfied: tqdm>=4.27 in /usr/local/lib/python3.6/dist-packages (from transformers) (4.41.1)\n",
            "Requirement already satisfied: filelock in /usr/local/lib/python3.6/dist-packages (from transformers) (3.0.12)\n",
            "Requirement already satisfied: numpy in /usr/local/lib/python3.6/dist-packages (from transformers) (1.18.4)\n",
            "Requirement already satisfied: tokenizers==0.7.0 in /usr/local/lib/python3.6/dist-packages (from transformers) (0.7.0)\n",
            "Requirement already satisfied: sentencepiece in /usr/local/lib/python3.6/dist-packages (from transformers) (0.1.90)\n",
            "Requirement already satisfied: six in /usr/local/lib/python3.6/dist-packages (from sacremoses->transformers) (1.12.0)\n",
            "Requirement already satisfied: joblib in /usr/local/lib/python3.6/dist-packages (from sacremoses->transformers) (0.14.1)\n",
            "Requirement already satisfied: click in /usr/local/lib/python3.6/dist-packages (from sacremoses->transformers) (7.1.2)\n",
            "Requirement already satisfied: chardet<4,>=3.0.2 in /usr/local/lib/python3.6/dist-packages (from requests->transformers) (3.0.4)\n",
            "Requirement already satisfied: urllib3!=1.25.0,!=1.25.1,<1.26,>=1.21.1 in /usr/local/lib/python3.6/dist-packages (from requests->transformers) (1.24.3)\n",
            "Requirement already satisfied: idna<3,>=2.5 in /usr/local/lib/python3.6/dist-packages (from requests->transformers) (2.9)\n",
            "Requirement already satisfied: certifi>=2017.4.17 in /usr/local/lib/python3.6/dist-packages (from requests->transformers) (2020.4.5.1)\n"
          ],
          "name": "stdout"
        }
      ]
    },
    {
      "cell_type": "code",
      "metadata": {
        "id": "nf8UhRWhjLa2",
        "colab_type": "code",
        "colab": {}
      },
      "source": [
        "from transformers import *\n",
        "import tokenizers\n",
        "from tokenizers import ByteLevelBPETokenizer"
      ],
      "execution_count": 0,
      "outputs": []
    },
    {
      "cell_type": "code",
      "metadata": {
        "id": "YwjmcA1MBHCI",
        "colab_type": "code",
        "colab": {}
      },
      "source": [
        "train = pd.read_csv('/content/competitions/tweet-sentiment-extraction/train.csv.zip').fillna('')\n",
        "test = pd.read_csv('/content/competitions/tweet-sentiment-extraction/test.csv').fillna('')"
      ],
      "execution_count": 0,
      "outputs": []
    },
    {
      "cell_type": "markdown",
      "metadata": {
        "id": "NAVkcd7vqeSN",
        "colab_type": "text"
      },
      "source": [
        "roBERTa deals with NLP problems as any other algorithm, it need to tokenize the input data.<br>\n",
        "It allows to import our own pre-tokenized data or to use some of their tokenizers. In our case, we are going to use their data.<br>\n",
        "We will need to import some data. **HuggingFace** has all this info in his doc page. I really recommend to have a look on their [site](https://huggingface.co/transformers/_modules/transformers/tokenization_roberta.html).<br>\n",
        "For the tokenizer, we will be needing a vocab file list and the merges list.\n",
        "We will get those files by the url showed on HugginFace web. "
      ]
    },
    {
      "cell_type": "code",
      "metadata": {
        "id": "a0TzXMTZ_N3N",
        "colab_type": "code",
        "colab": {}
      },
      "source": [
        "# We create a folder for all roberta's data\n",
        "!mkdir /content/roberta"
      ],
      "execution_count": 0,
      "outputs": []
    },
    {
      "cell_type": "code",
      "metadata": {
        "id": "l1RYDA4kq46T",
        "colab_type": "code",
        "outputId": "eb65d220-a9ed-4313-8696-7ec058a065c0",
        "colab": {
          "base_uri": "https://localhost:8080/",
          "height": 51
        }
      },
      "source": [
        "# Vocab json\n",
        "site = requests.get('https://s3.amazonaws.com/models.huggingface.co/bert/roberta-base-vocab.json')\n",
        "data = site.json()\n",
        "with open('/content/roberta/roberta-base-vocab.json', 'w') as f:\n",
        "    json.dump(data, f)\n",
        "\n",
        "# Merges txt\n",
        "urllib.request.urlretrieve('https://s3.amazonaws.com/models.huggingface.co/bert/roberta-base-merges.txt', \n",
        "                           \"/content/roberta/roberta-base-merges.txt\")"
      ],
      "execution_count": 0,
      "outputs": [
        {
          "output_type": "execute_result",
          "data": {
            "text/plain": [
              "('/content/roberta/roberta-base-merges.txt',\n",
              " <http.client.HTTPMessage at 0x7f2108b722b0>)"
            ]
          },
          "metadata": {
            "tags": []
          },
          "execution_count": 11
        }
      ]
    },
    {
      "cell_type": "markdown",
      "metadata": {
        "id": "Fw3qcyuy_gHJ",
        "colab_type": "text"
      },
      "source": [
        "These two files will defined our tokenizer. <br>\n",
        "Our `merges.txt` file is a list in which for each alphabetic/word there is a substitution value.<br>\n",
        "For exmaple, the phrarse *What's up* would be tokenized following the merges file as *`'What', \"'s\", 'Ġup`*.\n",
        "Then, for each value that commes from the merges file, the `voca file` would substitute those tokens by index values (defined in this specific file). For example:  *`[2061, 18, 62]`*.\n",
        "<br>**Keep in mind that we have more than 50K values defined in our vocab**.\n",
        "\n",
        "`ByteLevelBPETokenizer` allows us to import this data an generae our tokenizer. We set `lowercase as true` and we set `add_prefix_space`. We basically want to add an space before the string. It is useful for the encoding/decoding.<br>\n",
        "i.e. `*tokenizer.decode(tokenizer.encode(\"Madrid\")) = \" Madrid\"*`"
      ]
    },
    {
      "cell_type": "code",
      "metadata": {
        "id": "SN3Rv4Ux-7r5",
        "colab_type": "code",
        "colab": {}
      },
      "source": [
        "# Defining our tokenizer based on the pre-tokenizer from hugginface\n",
        "tokenizer = ByteLevelBPETokenizer(\n",
        "    add_prefix_space=True, \n",
        "    lowercase=True,\n",
        "    vocab_file='/content/roberta/roberta-base-vocab.json', \n",
        "    merges_file='/content/roberta/roberta-base-merges.txt')"
      ],
      "execution_count": 0,
      "outputs": []
    },
    {
      "cell_type": "markdown",
      "metadata": {
        "id": "4gIxPfI_wjPz",
        "colab_type": "text"
      },
      "source": [
        "We will stablish as **MAX_LEN** the maximum value for tweet length.<br>\n",
        "This value will be the maximum of tokens per input example. Find more info [here](https://towardsdatascience.com/to-distil-or-not-to-distil-bert-roberta-and-xlnet-c777ad92f8)"
      ]
    },
    {
      "cell_type": "code",
      "metadata": {
        "id": "H3NHNZ8TvlqG",
        "colab_type": "code",
        "outputId": "85825a24-0b75-4e92-e806-516d9d07f6c8",
        "colab": {
          "base_uri": "https://localhost:8080/",
          "height": 51
        }
      },
      "source": [
        "print(\"Max tweet length:\", max(train.text.apply(lambda x: len(x))))\n",
        "print(\"Mean tweet length\", np.mean(train.text.apply(lambda x: len(x))))"
      ],
      "execution_count": 0,
      "outputs": [
        {
          "output_type": "stream",
          "text": [
            "Max tweet length: 141\n",
            "Mean tweet length 68.32753538808632\n"
          ],
          "name": "stdout"
        }
      ]
    },
    {
      "cell_type": "code",
      "metadata": {
        "id": "47-bDYGwF6NB",
        "colab_type": "code",
        "outputId": "75eb0bd4-f882-46dd-edb6-db72e55202c9",
        "colab": {
          "base_uri": "https://localhost:8080/",
          "height": 204
        }
      },
      "source": [
        "MAX_LEN = 141\n",
        "EPOCHS = 3\n",
        "BATCH_SIZE = 32\n",
        "PAD_ID = 1\n",
        "SEED = 16\n",
        "LABEL_SMOOTHING = 0.1\n",
        "tf.random.set_seed(SEED)\n",
        "np.random.seed(SEED)\n",
        "sentiment_id = {'positive': 1313, 'negative': 2430, 'neutral': 7974}\n",
        "train.head()"
      ],
      "execution_count": 0,
      "outputs": [
        {
          "output_type": "execute_result",
          "data": {
            "text/html": [
              "<div>\n",
              "<style scoped>\n",
              "    .dataframe tbody tr th:only-of-type {\n",
              "        vertical-align: middle;\n",
              "    }\n",
              "\n",
              "    .dataframe tbody tr th {\n",
              "        vertical-align: top;\n",
              "    }\n",
              "\n",
              "    .dataframe thead th {\n",
              "        text-align: right;\n",
              "    }\n",
              "</style>\n",
              "<table border=\"1\" class=\"dataframe\">\n",
              "  <thead>\n",
              "    <tr style=\"text-align: right;\">\n",
              "      <th></th>\n",
              "      <th>textID</th>\n",
              "      <th>text</th>\n",
              "      <th>selected_text</th>\n",
              "      <th>sentiment</th>\n",
              "    </tr>\n",
              "  </thead>\n",
              "  <tbody>\n",
              "    <tr>\n",
              "      <th>0</th>\n",
              "      <td>cb774db0d1</td>\n",
              "      <td>I`d have responded, if I were going</td>\n",
              "      <td>I`d have responded, if I were going</td>\n",
              "      <td>neutral</td>\n",
              "    </tr>\n",
              "    <tr>\n",
              "      <th>1</th>\n",
              "      <td>549e992a42</td>\n",
              "      <td>Sooo SAD I will miss you here in San Diego!!!</td>\n",
              "      <td>Sooo SAD</td>\n",
              "      <td>negative</td>\n",
              "    </tr>\n",
              "    <tr>\n",
              "      <th>2</th>\n",
              "      <td>088c60f138</td>\n",
              "      <td>my boss is bullying me...</td>\n",
              "      <td>bullying me</td>\n",
              "      <td>negative</td>\n",
              "    </tr>\n",
              "    <tr>\n",
              "      <th>3</th>\n",
              "      <td>9642c003ef</td>\n",
              "      <td>what interview! leave me alone</td>\n",
              "      <td>leave me alone</td>\n",
              "      <td>negative</td>\n",
              "    </tr>\n",
              "    <tr>\n",
              "      <th>4</th>\n",
              "      <td>358bd9e861</td>\n",
              "      <td>Sons of ****, why couldn`t they put them on t...</td>\n",
              "      <td>Sons of ****,</td>\n",
              "      <td>negative</td>\n",
              "    </tr>\n",
              "  </tbody>\n",
              "</table>\n",
              "</div>"
            ],
            "text/plain": [
              "       textID  ... sentiment\n",
              "0  cb774db0d1  ...   neutral\n",
              "1  549e992a42  ...  negative\n",
              "2  088c60f138  ...  negative\n",
              "3  9642c003ef  ...  negative\n",
              "4  358bd9e861  ...  negative\n",
              "\n",
              "[5 rows x 4 columns]"
            ]
          },
          "metadata": {
            "tags": []
          },
          "execution_count": 91
        }
      ]
    },
    {
      "cell_type": "markdown",
      "metadata": {
        "id": "8y93VseQIVIW",
        "colab_type": "text"
      },
      "source": [
        "We encode the sentiment values"
      ]
    },
    {
      "cell_type": "code",
      "metadata": {
        "id": "uRuItH0MITQV",
        "colab_type": "code",
        "colab": {}
      },
      "source": [
        "sentiment_id = {'positive': 1313, 'negative': 2430, 'neutral': 7974}"
      ],
      "execution_count": 0,
      "outputs": []
    },
    {
      "cell_type": "markdown",
      "metadata": {
        "id": "6eVeXZ9XxVeK",
        "colab_type": "text"
      },
      "source": [
        "Once we have defined our tokenizer, we need to prepared our training and testing data.<br>\n",
        "We will create some empty vectors for filling in all our data.\n",
        "\n",
        "We are creating a set of arrays full of '0' and '1' with the dimension of the size of out dataset and MAX_LEN parameter.\n",
        "\n",
        "The following coding is based on [Chris Deotte's](https://www.kaggle.com/cdeotte/tensorflow-roberta-0-705) notebook."
      ]
    },
    {
      "cell_type": "code",
      "metadata": {
        "id": "bwY75FdQGwrw",
        "colab_type": "code",
        "colab": {}
      },
      "source": [
        "rowsFile = train.shape[0]\n",
        "\n",
        "input_ids = np.ones((rowsFile,MAX_LEN),dtype='int32')\n",
        "attention_mask =  np.zeros((rowsFile,MAX_LEN),dtype='int32')\n",
        "token_type_ids = np.zeros((rowsFile,MAX_LEN),dtype='int32')\n",
        "start_tokens = np.zeros((rowsFile,MAX_LEN),dtype='int32')\n",
        "end_tokens = np.zeros((rowsFile,MAX_LEN),dtype='int32')"
      ],
      "execution_count": 0,
      "outputs": []
    },
    {
      "cell_type": "markdown",
      "metadata": {
        "id": "isaLt2NGQqpC",
        "colab_type": "text"
      },
      "source": [
        "We will proceed by: <br>\n",
        "1. Selecting all our tweet and selection texts. <br>\n",
        "The idea is to find the index of the `selected_text` in the `tweet` text. Like this, in a full zero vector X of length equalt to the tweet's length, we will fulfill 1 for determining where the selected_test is.<br>\n",
        "Then we codify our resulting vector by substituting each word by it's corresponding token.<br>\n",
        "       i.e.: tweet: \"I love mondays\"; len(text): 14; selected_text: \"love\"; len(selected_text): 4\n",
        "             X =       [0, 0, 0, 0, 0, 0, 0, 0, 0, 0, 0, 0, 0, 0]\n",
        "             index where selected_text start: 2\n",
        "             result:   [0, 0, 1, 1, 1, 1, 0, 0, 0, 0, 0, 0, 0, 0]\n",
        "             enc:      ['Ġi', 'Ġlove', 'Ġm', 'ond', 'ays']\n",
        "2. Each enc list contains all the words codified. By selecting `enc.id` we can access to their corresponding index. <br>\n",
        "In this part we basically get the length for each token. We decodify our tokens thorugh their index, and we get back the words. We initiate a new list that is going to contain the starting and ending positions of the whole tweet.\n",
        "       i.e.: enc.id:               [939, 657, 475, 2832, 4113]\n",
        "             enc decodified:       [' i', ' love', ' m', 'ond', 'ays']\n",
        "             length of each token: [(0, 2), (2, 7), (7, 9), (9, 12), (12, 15)]\n",
        "3. Now we loop in each __offsert__. Basically, we are getting the length of each token, and by knwoing the length we can select the sub vector (for that length) in our vector **chars** (in the example above would be result). Therefore, we sum all the partitions, and if the sum is higger thant 1 we append to our list **token**.\n",
        "        i.e.: length of each token: [(0, 2), (2, 7), (7, 9), (9, 12), (12, 15)]\n",
        "              result:               [0, 0, 1, 1, 1, 1, 0, 0, 0, 0, 0, 0, 0, 0]\n",
        "              We get the partitions. In this example we would get the two first one:\n",
        "              Partition result[0:2] [0, 0 ,1] ====> sum(result[0:2]) > 1 ====> add to token the sum value (1)\n",
        "              Partition result[2:7] [1, 1, 1, 1, 0, 0] ====> sum(result[2:7]) > 1 ====> add to token the sum value (4)\n",
        "4. Finally, we overwrite all our previous created lists (in the previous cell) with the corresponding data calculates.\n",
        "             \n",
        "          \n",
        "        \n",
        "        \n",
        "  "
      ]
    },
    {
      "cell_type": "code",
      "metadata": {
        "id": "MuTZJm02IMBF",
        "colab_type": "code",
        "colab": {}
      },
      "source": [
        "for val in range(rowsFile):\n",
        "  # FIND OVERLAP\n",
        "  text1 = \" \" + \" \".join(train.loc[val,'text'].split())\n",
        "  text2 = \" \".join(train.loc[val,'selected_text'].split())\n",
        "\n",
        "  idx = text1.find(text2) # We find index where our selected_word starts\n",
        "  chars = np.zeros((len(text1))) # We create a vector of 0s with the length of text\n",
        "  chars[idx:idx+len(text2)] = 1 # Fullfill the vector with 1 when it coincides\n",
        "  if text1[idx-1]==' ': chars[idx-1] = 1 \n",
        "  enc = tokenizer.encode(text1) \n",
        "\n",
        "  # ID_OFFSETS\n",
        "  offsets = []\n",
        "  idx=0\n",
        "  for t in enc.ids:\n",
        "    w = tokenizer.decode([t])\n",
        "    offsets.append((idx,idx+len(w)))\n",
        "    idx += len(w)\n",
        "\n",
        "  # START END TOKENS\n",
        "  toks = []\n",
        "  for i,(a,b) in enumerate(offsets):  \n",
        "    sm = np.sum(chars[a:b])\n",
        "    if sm>0: toks.append(i) \n",
        "        \n",
        "  s_tok = sentiment_id[train.loc[val,'sentiment']]\n",
        "  input_ids[val,:len(enc.ids) + 5] = [0] + enc.ids + [2,2] + [s_tok] + [2]\n",
        "  attention_mask[val,:len(enc.ids)+5] = 1\n",
        "  if len(toks)>0:\n",
        "    start_tokens[val,toks[0]+1] = 1\n",
        "    end_tokens[val,toks[-1]+1] = 1"
      ],
      "execution_count": 0,
      "outputs": []
    },
    {
      "cell_type": "markdown",
      "metadata": {
        "id": "hnuXHLWJV1nC",
        "colab_type": "text"
      },
      "source": [
        "We have now to perform in the same way with the test data"
      ]
    },
    {
      "cell_type": "code",
      "metadata": {
        "id": "5FyG58I6N4CS",
        "colab_type": "code",
        "colab": {}
      },
      "source": [
        "rowsFile = test.shape[0]\n",
        "input_ids_t = np.ones((rowsFile,MAX_LEN),dtype='int32')\n",
        "attention_mask_t = np.zeros((rowsFile,MAX_LEN),dtype='int32')\n",
        "token_type_ids_t = np.zeros((rowsFile,MAX_LEN),dtype='int32')"
      ],
      "execution_count": 0,
      "outputs": []
    },
    {
      "cell_type": "code",
      "metadata": {
        "id": "LgmOf1QpWTjY",
        "colab_type": "code",
        "colab": {}
      },
      "source": [
        "for val in range(rowsFile):   \n",
        "  # INPUT_IDS\n",
        "  text1 = \" \"+\" \".join(test.loc[val,'text'].split())\n",
        "  enc = tokenizer.encode(text1)                \n",
        "  s_tok = sentiment_id[test.loc[val,'sentiment']]\n",
        "  input_ids_t[val,:len(enc.ids)+5] = [0] + enc.ids + [2,2] + [s_tok] + [2]\n",
        "  attention_mask_t[val,:len(enc.ids)+5] = 1"
      ],
      "execution_count": 0,
      "outputs": []
    },
    {
      "cell_type": "markdown",
      "metadata": {
        "id": "1_x3fCzyyyQb",
        "colab_type": "text"
      },
      "source": [
        "Our data is preapred. All our tweets and selected_text have been tokenized.<br>\n",
        "Now, we must define our model. We will be using **HuggingFace** [configuration](https://github.com/huggingface/transformers/blob/master/src/transformers/configuration_roberta.py) and [pretrained models](https://huggingface.co/transformers/_modules/transformers/modeling_tf_roberta.html)."
      ]
    },
    {
      "cell_type": "code",
      "metadata": {
        "id": "pmPGzpyaZNdt",
        "colab_type": "code",
        "colab": {}
      },
      "source": [
        "# Config json\n",
        "site = requests.get('https://s3.amazonaws.com/models.huggingface.co/bert/roberta-base-config.json')\n",
        "data = site.json()\n",
        "with open('/content/roberta/roberta-base-config.json', 'w') as f:\n",
        "    json.dump(data, f)"
      ],
      "execution_count": 0,
      "outputs": []
    },
    {
      "cell_type": "markdown",
      "metadata": {
        "id": "ddVXwGt4LczW",
        "colab_type": "text"
      },
      "source": [
        "`build model` function consists on: <br>\n",
        "defining the **configuration** and **pretrained model** that we want to use creating the different layers for our model <br>\n",
        "`dropoutLayer` it's active during the training. We stablis a rate at each step. Inputs that are different to 0 are scaled up by 1/(1 - rate). It's applied directly to the build_model(). <br>\n",
        "`Conv1D` creates a convolution kernel. The first parameter, _filter_, defines the dimension of the output; the second defines the dimension of the 1D convolution window.<br>\n",
        "`Flatten` flattens the input matriz size <br>\n",
        "`Activation` in our case we use _softmax__ to activate an output. This function transforms the vector into a vector of categorical probabilities (probabilistic distribution).\n"
      ]
    },
    {
      "cell_type": "code",
      "metadata": {
        "id": "MbAv50Os35fN",
        "colab_type": "code",
        "colab": {}
      },
      "source": [
        "def build_model():\n",
        "  config = RobertaConfig.from_pretrained('/content/roberta/roberta-base-config.json')\n",
        "  bert_model = TFRobertaModel.from_pretrained(\"https://cdn.huggingface.co/roberta-base-tf_model.h5\", config=config)\n",
        "\n",
        "  ids = tf.keras.layers.Input((MAX_LEN,), dtype=tf.int32) #ids layer\n",
        "  att = tf.keras.layers.Input((MAX_LEN,), dtype=tf.int32) #attention mask\n",
        "  tok = tf.keras.layers.Input((MAX_LEN,), dtype=tf.int32) # token layer\n",
        "  \n",
        "  x = bert_model(ids,attention_mask=att,token_type_ids=tok)\n",
        "  \n",
        "  # First output\n",
        "  x1 = tf.keras.layers.Dropout(0.1)(x[0]) \n",
        "  x1 = tf.keras.layers.Conv1D(1,1)(x1)\n",
        "  x1 = tf.keras.layers.Flatten()(x1)\n",
        "  x1 = tf.keras.layers.Activation('softmax')(x1)\n",
        "  # Second output\n",
        "  x2 = tf.keras.layers.Dropout(0.1)(x[0]) \n",
        "  x2 = tf.keras.layers.Conv1D(1,1)(x2)\n",
        "  x2 = tf.keras.layers.Flatten()(x2)\n",
        "  x2 = tf.keras.layers.Activation('softmax')(x2)\n",
        "\n",
        "  model = tf.keras.models.Model(inputs=[ids, att, tok], outputs=[x1,x2])\n",
        "  optimizer = tf.keras.optimizers.Adam(learning_rate=3e-5)\n",
        "\n",
        "  model.compile(loss='categorical_crossentropy', optimizer=optimizer)\n",
        "\n",
        "  return model"
      ],
      "execution_count": 0,
      "outputs": []
    },
    {
      "cell_type": "markdown",
      "metadata": {
        "id": "k5x8EJRnUHgU",
        "colab_type": "text"
      },
      "source": [
        "To measure our score we will use, as we have done before in other notebooks, the `jaccard score`."
      ]
    },
    {
      "cell_type": "code",
      "metadata": {
        "id": "_MoGh02i4nvc",
        "colab_type": "code",
        "colab": {}
      },
      "source": [
        "def jaccardScore(str1, str2): \n",
        "  wordA = set(str1.lower().split())\n",
        "  wordB = set(str1.lower().split())\n",
        "  if (len(wordA)==0) & (len(wordB)==0): \n",
        "    return 0.5\n",
        "  intersect = wordA.intersection(wordB)\n",
        "  return float(len(intersect)) / (len(wordA) + len(wordB) - len(intersect))"
      ],
      "execution_count": 0,
      "outputs": []
    },
    {
      "cell_type": "markdown",
      "metadata": {
        "id": "9w1GQnkER6ZG",
        "colab_type": "text"
      },
      "source": [
        "Let's train our model.\n",
        "\n",
        "We will have 3 epoch per fold, and a total of five folds.<br>\n",
        "After creating our training and testing vectors for starting and ending we run our model.<br>\n",
        "All the weights would be saved in a file called `v0-roberta-n.h5` where n makes reference to the fold."
      ]
    },
    {
      "cell_type": "code",
      "metadata": {
        "id": "4Egs7Cll4sxq",
        "colab_type": "code",
        "outputId": "44dfc950-8a77-41b0-ed74-3a390dfcfe81",
        "colab": {
          "base_uri": "https://localhost:8080/",
          "height": 1000
        }
      },
      "source": [
        "jac = []; VER='v0'; DISPLAY=1 # USE display=1 FOR INTERACTIVE\n",
        "oof_start = np.zeros((input_ids.shape[0],MAX_LEN))\n",
        "oof_end = np.zeros((input_ids.shape[0],MAX_LEN))\n",
        "preds_start = np.zeros((input_ids_t.shape[0],MAX_LEN))\n",
        "preds_end = np.zeros((input_ids_t.shape[0],MAX_LEN))\n",
        "\n",
        "skf = StratifiedKFold(n_splits=5,shuffle=True,random_state=777)\n",
        "for fold,(idxT,idxV) in enumerate(skf.split(input_ids,train.sentiment.values)):\n",
        "\n",
        "    print('#'*25)\n",
        "    print('### FOLD %i'%(fold+1))\n",
        "    print('#'*25)\n",
        "    \n",
        "    K.clear_session()\n",
        "    model = build_model()\n",
        "        \n",
        "    sv = tf.keras.callbacks.ModelCheckpoint(\n",
        "        '%s-roberta-%i.h5'%(VER,fold), monitor='val_loss', verbose=1, save_best_only=True,\n",
        "        save_weights_only=True, mode='auto', save_freq='epoch')\n",
        "        \n",
        "    model.fit([input_ids[idxT,], \n",
        "               attention_mask[idxT,], \n",
        "               token_type_ids[idxT,]], \n",
        "              [start_tokens[idxT,], \n",
        "               end_tokens[idxT,]], \n",
        "        epochs=3, batch_size=32, verbose=DISPLAY, callbacks=[sv],\n",
        "        validation_data=([input_ids[idxV,],attention_mask[idxV,],token_type_ids[idxV,]], \n",
        "        [start_tokens[idxV,], end_tokens[idxV,]]))\n",
        "    \n",
        "    print('Loading model...')\n",
        "    model.load_weights('%s-roberta-%i.h5'%(VER,fold))\n",
        "    \n",
        "    print('Predicting OOF...')\n",
        "    oof_start[idxV,],oof_end[idxV,] = model.predict([input_ids[idxV,],attention_mask[idxV,],token_type_ids[idxV,]],verbose=DISPLAY)\n",
        "    \n",
        "    print('Predicting Test...')\n",
        "    preds = model.predict([input_ids_t,attention_mask_t,token_type_ids_t],verbose=DISPLAY)\n",
        "    preds_start += preds[0]/skf.n_splits\n",
        "    preds_end += preds[1]/skf.n_splits\n",
        "    \n",
        "    # DISPLAY FOLD JACCARD\n",
        "    all = []\n",
        "    for k in idxV:\n",
        "        a = np.argmax(oof_start[k,])\n",
        "        b = np.argmax(oof_end[k,])\n",
        "        if a>b: \n",
        "            st = train.loc[k,'text'] # IMPROVE CV/LB with better choice here\n",
        "        else:\n",
        "            text1 = \" \"+\" \".join(train.loc[k,'text'].split())\n",
        "            enc = tokenizer.encode(text1)\n",
        "            st = tokenizer.decode(enc.ids[a-1:b])\n",
        "        all.append(jaccard(st,train.loc[k,'selected_text']))\n",
        "    jac.append(np.mean(all))\n",
        "    print('>>>> FOLD %i Jaccard ='%(fold+1),np.mean(all))\n",
        "    print()"
      ],
      "execution_count": 0,
      "outputs": [
        {
          "output_type": "stream",
          "text": [
            "#########################\n",
            "### FOLD 1\n",
            "#########################\n",
            "Epoch 1/3\n",
            "WARNING:tensorflow:Gradients do not exist for variables ['tf_roberta_model/roberta/pooler/dense/kernel:0', 'tf_roberta_model/roberta/pooler/dense/bias:0'] when minimizing the loss.\n",
            "WARNING:tensorflow:Gradients do not exist for variables ['tf_roberta_model/roberta/pooler/dense/kernel:0', 'tf_roberta_model/roberta/pooler/dense/bias:0'] when minimizing the loss.\n",
            "WARNING:tensorflow:Gradients do not exist for variables ['tf_roberta_model/roberta/pooler/dense/kernel:0', 'tf_roberta_model/roberta/pooler/dense/bias:0'] when minimizing the loss.\n",
            "WARNING:tensorflow:Gradients do not exist for variables ['tf_roberta_model/roberta/pooler/dense/kernel:0', 'tf_roberta_model/roberta/pooler/dense/bias:0'] when minimizing the loss.\n",
            "687/687 [==============================] - ETA: 0s - loss: 2.1937 - activation_loss: 1.0883 - activation_1_loss: 1.1054\n",
            "Epoch 00001: val_loss improved from inf to 1.75498, saving model to v0-roberta-0.h5\n",
            "687/687 [==============================] - 753s 1s/step - loss: 2.1937 - activation_loss: 1.0883 - activation_1_loss: 1.1054 - val_loss: 1.7550 - val_activation_loss: 0.9031 - val_activation_1_loss: 0.8519\n",
            "Epoch 2/3\n",
            "687/687 [==============================] - ETA: 0s - loss: 1.6331 - activation_loss: 0.8409 - activation_1_loss: 0.7922\n",
            "Epoch 00002: val_loss improved from 1.75498 to 1.65630, saving model to v0-roberta-0.h5\n",
            "687/687 [==============================] - 753s 1s/step - loss: 1.6331 - activation_loss: 0.8409 - activation_1_loss: 0.7922 - val_loss: 1.6563 - val_activation_loss: 0.8674 - val_activation_1_loss: 0.7889\n",
            "Epoch 3/3\n",
            "687/687 [==============================] - ETA: 0s - loss: 1.4847 - activation_loss: 0.7666 - activation_1_loss: 0.7182\n",
            "Epoch 00003: val_loss improved from 1.65630 to 1.63823, saving model to v0-roberta-0.h5\n",
            "687/687 [==============================] - 751s 1s/step - loss: 1.4847 - activation_loss: 0.7666 - activation_1_loss: 0.7182 - val_loss: 1.6382 - val_activation_loss: 0.8529 - val_activation_1_loss: 0.7853\n",
            "Loading model...\n",
            "Predicting OOF...\n",
            "172/172 [==============================] - 52s 305ms/step\n",
            "Predicting Test...\n",
            "111/111 [==============================] - 34s 302ms/step\n",
            ">>>> FOLD 1 Jaccard = 0.7076440353826009\n",
            "\n",
            "#########################\n",
            "### FOLD 2\n",
            "#########################\n",
            "Epoch 1/3\n",
            "WARNING:tensorflow:Gradients do not exist for variables ['tf_roberta_model/roberta/pooler/dense/kernel:0', 'tf_roberta_model/roberta/pooler/dense/bias:0'] when minimizing the loss.\n",
            "WARNING:tensorflow:Gradients do not exist for variables ['tf_roberta_model/roberta/pooler/dense/kernel:0', 'tf_roberta_model/roberta/pooler/dense/bias:0'] when minimizing the loss.\n",
            "WARNING:tensorflow:Gradients do not exist for variables ['tf_roberta_model/roberta/pooler/dense/kernel:0', 'tf_roberta_model/roberta/pooler/dense/bias:0'] when minimizing the loss.\n",
            "WARNING:tensorflow:Gradients do not exist for variables ['tf_roberta_model/roberta/pooler/dense/kernel:0', 'tf_roberta_model/roberta/pooler/dense/bias:0'] when minimizing the loss.\n",
            "688/688 [==============================] - ETA: 0s - loss: 2.2210 - activation_loss: 1.0986 - activation_1_loss: 1.1224\n",
            "Epoch 00001: val_loss improved from inf to 1.73641, saving model to v0-roberta-1.h5\n",
            "688/688 [==============================] - 751s 1s/step - loss: 2.2210 - activation_loss: 1.0986 - activation_1_loss: 1.1224 - val_loss: 1.7364 - val_activation_loss: 0.8804 - val_activation_1_loss: 0.8560\n",
            "Epoch 2/3\n",
            "688/688 [==============================] - ETA: 0s - loss: 1.6554 - activation_loss: 0.8456 - activation_1_loss: 0.8098\n",
            "Epoch 00002: val_loss improved from 1.73641 to 1.65188, saving model to v0-roberta-1.h5\n",
            "688/688 [==============================] - 748s 1s/step - loss: 1.6554 - activation_loss: 0.8456 - activation_1_loss: 0.8098 - val_loss: 1.6519 - val_activation_loss: 0.8471 - val_activation_1_loss: 0.8048\n",
            "Epoch 3/3\n",
            "688/688 [==============================] - ETA: 0s - loss: 1.5148 - activation_loss: 0.7795 - activation_1_loss: 0.7353\n",
            "Epoch 00003: val_loss did not improve from 1.65188\n",
            "688/688 [==============================] - 746s 1s/step - loss: 1.5148 - activation_loss: 0.7795 - activation_1_loss: 0.7353 - val_loss: 1.6543 - val_activation_loss: 0.8542 - val_activation_1_loss: 0.8001\n",
            "Loading model...\n",
            "Predicting OOF...\n",
            "172/172 [==============================] - 52s 304ms/step\n",
            "Predicting Test...\n",
            "111/111 [==============================] - 33s 302ms/step\n",
            ">>>> FOLD 2 Jaccard = 0.6916544292800297\n",
            "\n",
            "#########################\n",
            "### FOLD 3\n",
            "#########################\n",
            "Epoch 1/3\n",
            "WARNING:tensorflow:Gradients do not exist for variables ['tf_roberta_model/roberta/pooler/dense/kernel:0', 'tf_roberta_model/roberta/pooler/dense/bias:0'] when minimizing the loss.\n",
            "WARNING:tensorflow:Gradients do not exist for variables ['tf_roberta_model/roberta/pooler/dense/kernel:0', 'tf_roberta_model/roberta/pooler/dense/bias:0'] when minimizing the loss.\n",
            "WARNING:tensorflow:Gradients do not exist for variables ['tf_roberta_model/roberta/pooler/dense/kernel:0', 'tf_roberta_model/roberta/pooler/dense/bias:0'] when minimizing the loss.\n",
            "WARNING:tensorflow:Gradients do not exist for variables ['tf_roberta_model/roberta/pooler/dense/kernel:0', 'tf_roberta_model/roberta/pooler/dense/bias:0'] when minimizing the loss.\n",
            "688/688 [==============================] - ETA: 0s - loss: 2.2444 - activation_loss: 1.0830 - activation_1_loss: 1.1614\n",
            "Epoch 00001: val_loss improved from inf to 1.69105, saving model to v0-roberta-2.h5\n",
            "688/688 [==============================] - 750s 1s/step - loss: 2.2444 - activation_loss: 1.0830 - activation_1_loss: 1.1614 - val_loss: 1.6911 - val_activation_loss: 0.8495 - val_activation_1_loss: 0.8416\n",
            "Epoch 2/3\n",
            "688/688 [==============================] - ETA: 0s - loss: 1.6585 - activation_loss: 0.8536 - activation_1_loss: 0.8049\n",
            "Epoch 00002: val_loss improved from 1.69105 to 1.62102, saving model to v0-roberta-2.h5\n",
            "688/688 [==============================] - 748s 1s/step - loss: 1.6585 - activation_loss: 0.8536 - activation_1_loss: 0.8049 - val_loss: 1.6210 - val_activation_loss: 0.8296 - val_activation_1_loss: 0.7914\n",
            "Epoch 3/3\n",
            "688/688 [==============================] - ETA: 0s - loss: 1.5063 - activation_loss: 0.7763 - activation_1_loss: 0.7300\n",
            "Epoch 00003: val_loss did not improve from 1.62102\n",
            "688/688 [==============================] - 714s 1s/step - loss: 1.5063 - activation_loss: 0.7763 - activation_1_loss: 0.7300 - val_loss: 1.6893 - val_activation_loss: 0.8638 - val_activation_1_loss: 0.8256\n",
            "Loading model...\n",
            "Predicting OOF...\n",
            "172/172 [==============================] - 51s 295ms/step\n",
            "Predicting Test...\n",
            "111/111 [==============================] - 33s 295ms/step\n",
            ">>>> FOLD 3 Jaccard = 0.7035587419252969\n",
            "\n",
            "#########################\n",
            "### FOLD 4\n",
            "#########################\n",
            "Epoch 1/3\n",
            "WARNING:tensorflow:Gradients do not exist for variables ['tf_roberta_model/roberta/pooler/dense/kernel:0', 'tf_roberta_model/roberta/pooler/dense/bias:0'] when minimizing the loss.\n",
            "WARNING:tensorflow:Gradients do not exist for variables ['tf_roberta_model/roberta/pooler/dense/kernel:0', 'tf_roberta_model/roberta/pooler/dense/bias:0'] when minimizing the loss.\n",
            "WARNING:tensorflow:Gradients do not exist for variables ['tf_roberta_model/roberta/pooler/dense/kernel:0', 'tf_roberta_model/roberta/pooler/dense/bias:0'] when minimizing the loss.\n",
            "WARNING:tensorflow:Gradients do not exist for variables ['tf_roberta_model/roberta/pooler/dense/kernel:0', 'tf_roberta_model/roberta/pooler/dense/bias:0'] when minimizing the loss.\n",
            "688/688 [==============================] - ETA: 0s - loss: 2.3280 - activation_loss: 1.1310 - activation_1_loss: 1.1970\n",
            "Epoch 00001: val_loss improved from inf to 1.68023, saving model to v0-roberta-3.h5\n",
            "688/688 [==============================] - 708s 1s/step - loss: 2.3280 - activation_loss: 1.1310 - activation_1_loss: 1.1970 - val_loss: 1.6802 - val_activation_loss: 0.8491 - val_activation_1_loss: 0.8311\n",
            "Epoch 2/3\n",
            "688/688 [==============================] - ETA: 0s - loss: 1.7084 - activation_loss: 0.8723 - activation_1_loss: 0.8361\n",
            "Epoch 00002: val_loss improved from 1.68023 to 1.63041, saving model to v0-roberta-3.h5\n",
            "688/688 [==============================] - 706s 1s/step - loss: 1.7084 - activation_loss: 0.8723 - activation_1_loss: 0.8361 - val_loss: 1.6304 - val_activation_loss: 0.8329 - val_activation_1_loss: 0.7975\n",
            "Epoch 3/3\n",
            "688/688 [==============================] - ETA: 0s - loss: 1.5414 - activation_loss: 0.8000 - activation_1_loss: 0.7413\n",
            "Epoch 00003: val_loss improved from 1.63041 to 1.60941, saving model to v0-roberta-3.h5\n",
            "688/688 [==============================] - 708s 1s/step - loss: 1.5414 - activation_loss: 0.8000 - activation_1_loss: 0.7413 - val_loss: 1.6094 - val_activation_loss: 0.8236 - val_activation_1_loss: 0.7858\n",
            "Loading model...\n",
            "Predicting OOF...\n",
            "172/172 [==============================] - 51s 294ms/step\n",
            "Predicting Test...\n",
            "111/111 [==============================] - 33s 293ms/step\n",
            ">>>> FOLD 4 Jaccard = 0.7045098574577269\n",
            "\n",
            "#########################\n",
            "### FOLD 5\n",
            "#########################\n",
            "Epoch 1/3\n",
            "WARNING:tensorflow:Gradients do not exist for variables ['tf_roberta_model/roberta/pooler/dense/kernel:0', 'tf_roberta_model/roberta/pooler/dense/bias:0'] when minimizing the loss.\n",
            "WARNING:tensorflow:Gradients do not exist for variables ['tf_roberta_model/roberta/pooler/dense/kernel:0', 'tf_roberta_model/roberta/pooler/dense/bias:0'] when minimizing the loss.\n",
            "WARNING:tensorflow:Gradients do not exist for variables ['tf_roberta_model/roberta/pooler/dense/kernel:0', 'tf_roberta_model/roberta/pooler/dense/bias:0'] when minimizing the loss.\n",
            "WARNING:tensorflow:Gradients do not exist for variables ['tf_roberta_model/roberta/pooler/dense/kernel:0', 'tf_roberta_model/roberta/pooler/dense/bias:0'] when minimizing the loss.\n",
            "688/688 [==============================] - ETA: 0s - loss: 2.1516 - activation_loss: 1.0762 - activation_1_loss: 1.0755\n",
            "Epoch 00001: val_loss improved from inf to 1.66605, saving model to v0-roberta-4.h5\n",
            "688/688 [==============================] - 714s 1s/step - loss: 2.1516 - activation_loss: 1.0762 - activation_1_loss: 1.0755 - val_loss: 1.6660 - val_activation_loss: 0.8629 - val_activation_1_loss: 0.8031\n",
            "Epoch 2/3\n",
            "688/688 [==============================] - ETA: 0s - loss: 1.6137 - activation_loss: 0.8304 - activation_1_loss: 0.7833\n",
            "Epoch 00002: val_loss improved from 1.66605 to 1.62696, saving model to v0-roberta-4.h5\n",
            "688/688 [==============================] - 708s 1s/step - loss: 1.6137 - activation_loss: 0.8304 - activation_1_loss: 0.7833 - val_loss: 1.6270 - val_activation_loss: 0.8518 - val_activation_1_loss: 0.7751\n",
            "Epoch 3/3\n",
            "688/688 [==============================] - ETA: 0s - loss: 1.5282 - activation_loss: 0.7578 - activation_1_loss: 0.7705\n",
            "Epoch 00003: val_loss did not improve from 1.62696\n",
            "688/688 [==============================] - 725s 1s/step - loss: 1.5282 - activation_loss: 0.7578 - activation_1_loss: 0.7705 - val_loss: 1.7881 - val_activation_loss: 0.8409 - val_activation_1_loss: 0.9473\n",
            "Loading model...\n",
            "Predicting OOF...\n",
            "172/172 [==============================] - 51s 296ms/step\n",
            "Predicting Test...\n",
            "111/111 [==============================] - 33s 294ms/step\n",
            ">>>> FOLD 5 Jaccard = 0.7093799116332887\n",
            "\n"
          ],
          "name": "stdout"
        }
      ]
    },
    {
      "cell_type": "markdown",
      "metadata": {
        "id": "t8iT4UwuYeto",
        "colab_type": "text"
      },
      "source": [
        "If we calculate the mean for al de jaccard scores we get:"
      ]
    },
    {
      "cell_type": "code",
      "metadata": {
        "id": "UbOd1PZgR7U_",
        "colab_type": "code",
        "outputId": "eac1c548-b30a-4432-dfc6-ea5e4968557c",
        "colab": {
          "base_uri": "https://localhost:8080/",
          "height": 34
        }
      },
      "source": [
        "print('>>>> Jaccard Score=',np.mean(jac))"
      ],
      "execution_count": 0,
      "outputs": [
        {
          "output_type": "stream",
          "text": [
            ">>>> OVERALL 5Fold CV Jaccard = 0.7033493951357885\n"
          ],
          "name": "stdout"
        }
      ]
    },
    {
      "cell_type": "markdown",
      "metadata": {
        "id": "KeUgKfD6gfUc",
        "colab_type": "text"
      },
      "source": [
        "It seems that 70% of our resulting data would match properly with our jaccard score. This is a great value.<br>\n",
        "However, it would be great to check if the result has sense."
      ]
    },
    {
      "cell_type": "code",
      "metadata": {
        "id": "oZd3k7fJR79l",
        "colab_type": "code",
        "colab": {}
      },
      "source": [
        "all = []\n",
        "for k in range(input_ids_t.shape[0]):\n",
        "    a = np.argmax(preds_start[k,])\n",
        "    b = np.argmax(preds_end[k,])\n",
        "    if a>b: \n",
        "        st = test.loc[k,'text']\n",
        "    else:\n",
        "        text1 = \" \"+\" \".join(test.loc[k,'text'].split())\n",
        "        enc = tokenizer.encode(text1)\n",
        "        st = tokenizer.decode(enc.ids[a-1:b])\n",
        "    all.append(st)"
      ],
      "execution_count": 0,
      "outputs": []
    },
    {
      "cell_type": "code",
      "metadata": {
        "id": "4qBcb6QHR_d7",
        "colab_type": "code",
        "outputId": "4a69469d-8fca-45a2-90df-359fab84b013",
        "colab": {
          "base_uri": "https://localhost:8080/",
          "height": 824
        }
      },
      "source": [
        "test['selected_text'] = all\n",
        "test[['textID','selected_text']].to_csv('submission.csv',index=False)\n",
        "pd.set_option('max_colwidth', 60)\n",
        "test.sample(25)"
      ],
      "execution_count": 0,
      "outputs": [
        {
          "output_type": "execute_result",
          "data": {
            "text/html": [
              "<div>\n",
              "<style scoped>\n",
              "    .dataframe tbody tr th:only-of-type {\n",
              "        vertical-align: middle;\n",
              "    }\n",
              "\n",
              "    .dataframe tbody tr th {\n",
              "        vertical-align: top;\n",
              "    }\n",
              "\n",
              "    .dataframe thead th {\n",
              "        text-align: right;\n",
              "    }\n",
              "</style>\n",
              "<table border=\"1\" class=\"dataframe\">\n",
              "  <thead>\n",
              "    <tr style=\"text-align: right;\">\n",
              "      <th></th>\n",
              "      <th>textID</th>\n",
              "      <th>text</th>\n",
              "      <th>sentiment</th>\n",
              "      <th>selected_text</th>\n",
              "    </tr>\n",
              "  </thead>\n",
              "  <tbody>\n",
              "    <tr>\n",
              "      <th>126</th>\n",
              "      <td>b3eadfc565</td>\n",
              "      <td>Folks thought it was hilarious when I told them the sto...</td>\n",
              "      <td>positive</td>\n",
              "      <td>hilarious</td>\n",
              "    </tr>\n",
              "    <tr>\n",
              "      <th>1075</th>\n",
              "      <td>e8ce4f8bdc</td>\n",
              "      <td>ohh snapp, have fun</td>\n",
              "      <td>neutral</td>\n",
              "      <td>ohh snapp, have fun</td>\n",
              "    </tr>\n",
              "    <tr>\n",
              "      <th>2853</th>\n",
              "      <td>8244eb7ae9</td>\n",
              "      <td>omg, NO ICECREAM</td>\n",
              "      <td>negative</td>\n",
              "      <td>omg, no icecream</td>\n",
              "    </tr>\n",
              "    <tr>\n",
              "      <th>2782</th>\n",
              "      <td>aa2c27ea07</td>\n",
              "      <td>I like Rio Ferdinand - when he`s wearing an England jersey.</td>\n",
              "      <td>positive</td>\n",
              "      <td>i like</td>\n",
              "    </tr>\n",
              "    <tr>\n",
              "      <th>22</th>\n",
              "      <td>3dcf4f7e13</td>\n",
              "      <td>... need retail therapy, bad. AHHH.....gimme money geebus</td>\n",
              "      <td>negative</td>\n",
              "      <td>bad.</td>\n",
              "    </tr>\n",
              "    <tr>\n",
              "      <th>240</th>\n",
              "      <td>abda0ac082</td>\n",
              "      <td>is fixin to clean the house for my mom for mother`s day</td>\n",
              "      <td>positive</td>\n",
              "      <td>is fixin to clean</td>\n",
              "    </tr>\n",
              "    <tr>\n",
              "      <th>2550</th>\n",
              "      <td>b8e35a07a2</td>\n",
              "      <td>bout to go to bed... pretty good day for a Monday.</td>\n",
              "      <td>positive</td>\n",
              "      <td>pretty good</td>\n",
              "    </tr>\n",
              "    <tr>\n",
              "      <th>419</th>\n",
              "      <td>d7b1ac80c4</td>\n",
              "      <td>Good morning!  Just took the longest shower ive ever tak...</td>\n",
              "      <td>positive</td>\n",
              "      <td>good morning!</td>\n",
              "    </tr>\n",
              "    <tr>\n",
              "      <th>1533</th>\n",
              "      <td>bab26fdc24</td>\n",
              "      <td>pansy  wtf codeh?!</td>\n",
              "      <td>negative</td>\n",
              "      <td>pansy wtf</td>\n",
              "    </tr>\n",
              "    <tr>\n",
              "      <th>2488</th>\n",
              "      <td>4805e663c0</td>\n",
              "      <td>Have been writing since 6pm &amp; I only have 300 words. Can...</td>\n",
              "      <td>neutral</td>\n",
              "      <td>have been writing since 6pm &amp; i only have 300 words. ca...</td>\n",
              "    </tr>\n",
              "    <tr>\n",
              "      <th>3073</th>\n",
              "      <td>8230f9ad74</td>\n",
              "      <td>makin tea an its stressin me out</td>\n",
              "      <td>negative</td>\n",
              "      <td>stressin me out</td>\n",
              "    </tr>\n",
              "    <tr>\n",
              "      <th>1560</th>\n",
              "      <td>d3a576d221</td>\n",
              "      <td>you asked about my SF schedule, dahling...maybe next time</td>\n",
              "      <td>neutral</td>\n",
              "      <td>you asked about my sf schedule, dahling...maybe next time</td>\n",
              "    </tr>\n",
              "    <tr>\n",
              "      <th>720</th>\n",
              "      <td>15fb68bf9f</td>\n",
              "      <td>All of a sudden I`m craving broccoli and cheese soup rea...</td>\n",
              "      <td>negative</td>\n",
              "      <td>bad...</td>\n",
              "    </tr>\n",
              "    <tr>\n",
              "      <th>2123</th>\n",
              "      <td>3da6270b02</td>\n",
              "      <td>I hide my berry like a slave REGULARLY only today I was...</td>\n",
              "      <td>neutral</td>\n",
              "      <td>i hide my berry like a slave regularly only today i was...</td>\n",
              "    </tr>\n",
              "    <tr>\n",
              "      <th>2528</th>\n",
              "      <td>333f3d42e2</td>\n",
              "      <td>aww bless  haha your cute Tom</td>\n",
              "      <td>positive</td>\n",
              "      <td>aww bless haha your cute tom</td>\n",
              "    </tr>\n",
              "    <tr>\n",
              "      <th>3468</th>\n",
              "      <td>885b8f47f7</td>\n",
              "      <td>yes sir i sure did.</td>\n",
              "      <td>neutral</td>\n",
              "      <td>yes sir i sure did.</td>\n",
              "    </tr>\n",
              "    <tr>\n",
              "      <th>2549</th>\n",
              "      <td>0fb19285b2</td>\n",
              "      <td>HEY GUYS IT`S WORKING NO NEED TO WORRY. i have tooo many...</td>\n",
              "      <td>positive</td>\n",
              "      <td>no need to worry.</td>\n",
              "    </tr>\n",
              "    <tr>\n",
              "      <th>3269</th>\n",
              "      <td>49096c54e2</td>\n",
              "      <td>My 100th post- dedicated to Sarah,sunny weather,and my l...</td>\n",
              "      <td>neutral</td>\n",
              "      <td>my 100th post- dedicated to sarah,sunny weather,and my ...</td>\n",
              "    </tr>\n",
              "    <tr>\n",
              "      <th>2551</th>\n",
              "      <td>df8b63c379</td>\n",
              "      <td>_18 i emailed you the link, pretty sad uh?  RIP Jessie K...</td>\n",
              "      <td>negative</td>\n",
              "      <td>pretty sad</td>\n",
              "    </tr>\n",
              "    <tr>\n",
              "      <th>2707</th>\n",
              "      <td>a30a9b4003</td>\n",
              "      <td>Though it was a cold that would go away, turns out it`s...</td>\n",
              "      <td>negative</td>\n",
              "      <td>worse and worse by the day.</td>\n",
              "    </tr>\n",
              "    <tr>\n",
              "      <th>2651</th>\n",
              "      <td>0d63dff2e5</td>\n",
              "      <td>you don`t even care about there, their, and they`re.</td>\n",
              "      <td>neutral</td>\n",
              "      <td>you don`t even care about there, their, and they`re.</td>\n",
              "    </tr>\n",
              "    <tr>\n",
              "      <th>1284</th>\n",
              "      <td>a22d319e5f</td>\n",
              "      <td>- That Jasper clip is my first 'favorite' Twitter message.</td>\n",
              "      <td>neutral</td>\n",
              "      <td>- that jasper clip is my first 'favorite' twitter message.</td>\n",
              "    </tr>\n",
              "    <tr>\n",
              "      <th>1289</th>\n",
              "      <td>53dbbbdf7d</td>\n",
              "      <td>_ember yay! thanks.  cover-i sad ang alist please. )</td>\n",
              "      <td>neutral</td>\n",
              "      <td>_ember yay! thanks. cover-i sad ang alist please. )</td>\n",
              "    </tr>\n",
              "    <tr>\n",
              "      <th>2483</th>\n",
              "      <td>95dbb10a09</td>\n",
              "      <td>Driving home to trade cars  hopefully it makes it! http:...</td>\n",
              "      <td>positive</td>\n",
              "      <td>hopefully</td>\n",
              "    </tr>\n",
              "    <tr>\n",
              "      <th>2599</th>\n",
              "      <td>12ceb7565a</td>\n",
              "      <td>Outlook not so good</td>\n",
              "      <td>negative</td>\n",
              "      <td>outlook not so good</td>\n",
              "    </tr>\n",
              "  </tbody>\n",
              "</table>\n",
              "</div>"
            ],
            "text/plain": [
              "          textID  ...                                                selected_text\n",
              "126   b3eadfc565  ...                                                    hilarious\n",
              "1075  e8ce4f8bdc  ...                                          ohh snapp, have fun\n",
              "2853  8244eb7ae9  ...                                             omg, no icecream\n",
              "2782  aa2c27ea07  ...                                                       i like\n",
              "22    3dcf4f7e13  ...                                                         bad.\n",
              "240   abda0ac082  ...                                            is fixin to clean\n",
              "2550  b8e35a07a2  ...                                                  pretty good\n",
              "419   d7b1ac80c4  ...                                                good morning!\n",
              "1533  bab26fdc24  ...                                                    pansy wtf\n",
              "2488  4805e663c0  ...   have been writing since 6pm & i only have 300 words. ca...\n",
              "3073  8230f9ad74  ...                                              stressin me out\n",
              "1560  d3a576d221  ...    you asked about my sf schedule, dahling...maybe next time\n",
              "720   15fb68bf9f  ...                                                       bad...\n",
              "2123  3da6270b02  ...   i hide my berry like a slave regularly only today i was...\n",
              "2528  333f3d42e2  ...                                 aww bless haha your cute tom\n",
              "3468  885b8f47f7  ...                                          yes sir i sure did.\n",
              "2549  0fb19285b2  ...                                            no need to worry.\n",
              "3269  49096c54e2  ...   my 100th post- dedicated to sarah,sunny weather,and my ...\n",
              "2551  df8b63c379  ...                                                   pretty sad\n",
              "2707  a30a9b4003  ...                                  worse and worse by the day.\n",
              "2651  0d63dff2e5  ...         you don`t even care about there, their, and they`re.\n",
              "1284  a22d319e5f  ...   - that jasper clip is my first 'favorite' twitter message.\n",
              "1289  53dbbbdf7d  ...          _ember yay! thanks. cover-i sad ang alist please. )\n",
              "2483  95dbb10a09  ...                                                    hopefully\n",
              "2599  12ceb7565a  ...                                          outlook not so good\n",
              "\n",
              "[25 rows x 4 columns]"
            ]
          },
          "metadata": {
            "tags": []
          },
          "execution_count": 100
        }
      ]
    },
    {
      "cell_type": "markdown",
      "metadata": {
        "id": "lUinjO5OhNFo",
        "colab_type": "text"
      },
      "source": [
        "The obtained data has sense. It seems that the words (or expresions) that have the highest values for defining the sentiment are already selected. <br>\n",
        "\n",
        "Finally, after a deep analysis of different ways to solve this problem, we have been able to achieve a good score. <br><br>\n",
        "A new approach could be to try to use our calculated weight values to try to check if it works with another example dataset. "
      ]
    }
  ]
}