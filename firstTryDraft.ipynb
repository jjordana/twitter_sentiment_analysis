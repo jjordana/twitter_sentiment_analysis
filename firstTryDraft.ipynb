{
  "nbformat": 4,
  "nbformat_minor": 0,
  "metadata": {
    "colab": {
      "name": "Untitled0.ipynb",
      "provenance": [],
      "authorship_tag": "ABX9TyPnNCLbnsZ/SL6DwHyIl0dl",
      "include_colab_link": true
    },
    "kernelspec": {
      "name": "python3",
      "display_name": "Python 3"
    },
    "accelerator": "GPU"
  },
  "cells": [
    {
      "cell_type": "markdown",
      "metadata": {
        "id": "view-in-github",
        "colab_type": "text"
      },
      "source": [
        "<a href=\"https://colab.research.google.com/github/jjordana/twitter_sentiment_analysis/blob/master/firstTryDraft.ipynb\" target=\"_parent\"><img src=\"https://colab.research.google.com/assets/colab-badge.svg\" alt=\"Open In Colab\"/></a>"
      ]
    },
    {
      "cell_type": "markdown",
      "metadata": {
        "id": "B1-0xr3hRajy",
        "colab_type": "text"
      },
      "source": [
        "# **First Approach**\n",
        "\n",
        "After performing our [EDA](https://github.com/jjordana/twitter_sentiment_analysis/blob/master/EDA.ipynb), our next step is going to be to try to achieve some of the target data (_selected_text_).<br>\n",
        "We will be using the previous output data.\n"
      ]
    },
    {
      "cell_type": "markdown",
      "metadata": {
        "id": "-UY3HBz2L__T",
        "colab_type": "text"
      },
      "source": [
        "## Importin Data, Libraries & More"
      ]
    },
    {
      "cell_type": "code",
      "metadata": {
        "id": "_-aUW0RMTRz2",
        "colab_type": "code",
        "outputId": "1b5bf0c2-41b2-438b-f8c4-454eb1366a40",
        "colab": {
          "base_uri": "https://localhost:8080/",
          "height": 85
        }
      },
      "source": [
        "import numpy as np \n",
        "import pandas as pd \n",
        "import seaborn as sns\n",
        "import matplotlib.pyplot as plt\n",
        "\n",
        "import collections\n",
        "\n",
        "from textblob import TextBlob\n",
        "from wordcloud import WordCloud, STOPWORDS\n",
        "from nltk.stem import WordNetLemmatizer\n",
        "import nltk\n",
        "nltk.download('wordnet') # For the counterPlots\n",
        "nltk.download('vader_lexicon') # For the counterPlots\n",
        "\n",
        "from nltk.sentiment.vader import SentimentIntensityAnalyzer\n",
        "sid = SentimentIntensityAnalyzer()\n",
        "\n",
        "import warnings\n",
        "warnings.filterwarnings(\"ignore\")"
      ],
      "execution_count": 209,
      "outputs": [
        {
          "output_type": "stream",
          "text": [
            "[nltk_data] Downloading package wordnet to /root/nltk_data...\n",
            "[nltk_data]   Package wordnet is already up-to-date!\n",
            "[nltk_data] Downloading package vader_lexicon to /root/nltk_data...\n",
            "[nltk_data]   Package vader_lexicon is already up-to-date!\n"
          ],
          "name": "stdout"
        }
      ]
    },
    {
      "cell_type": "code",
      "metadata": {
        "id": "iRxDC7c1Tg5K",
        "colab_type": "code",
        "colab": {}
      },
      "source": [
        "test = pd.read_csv('/content/test.csv')\n",
        "train = pd.read_csv('/content/train.csv')"
      ],
      "execution_count": 0,
      "outputs": []
    },
    {
      "cell_type": "markdown",
      "metadata": {
        "id": "IU2VBMqONCHG",
        "colab_type": "text"
      },
      "source": [
        "We can check that we have all the data comming from the previous notebook. However,  we are going to remove the columns corresponding to the `jaccScore`, `polarityScore` and `subjectivity`.\n",
        "\n"
      ]
    },
    {
      "cell_type": "code",
      "metadata": {
        "id": "v320mXRaMWTH",
        "colab_type": "code",
        "outputId": "1095912f-b9d7-446c-c138-082eff31cd52",
        "colab": {
          "base_uri": "https://localhost:8080/",
          "height": 272
        }
      },
      "source": [
        "train = train.drop(columns=['Unnamed: 0', 'jaccScore', 'polarityScore', 'subjectivity'])\n",
        "print(train['sentiment'].value_counts())\n",
        "train.head()"
      ],
      "execution_count": 211,
      "outputs": [
        {
          "output_type": "stream",
          "text": [
            "neutral     11117\n",
            "positive     8582\n",
            "negative     7781\n",
            "Name: sentiment, dtype: int64\n"
          ],
          "name": "stdout"
        },
        {
          "output_type": "execute_result",
          "data": {
            "text/html": [
              "<div>\n",
              "<style scoped>\n",
              "    .dataframe tbody tr th:only-of-type {\n",
              "        vertical-align: middle;\n",
              "    }\n",
              "\n",
              "    .dataframe tbody tr th {\n",
              "        vertical-align: top;\n",
              "    }\n",
              "\n",
              "    .dataframe thead th {\n",
              "        text-align: right;\n",
              "    }\n",
              "</style>\n",
              "<table border=\"1\" class=\"dataframe\">\n",
              "  <thead>\n",
              "    <tr style=\"text-align: right;\">\n",
              "      <th></th>\n",
              "      <th>textID</th>\n",
              "      <th>text</th>\n",
              "      <th>selected_text</th>\n",
              "      <th>sentiment</th>\n",
              "      <th>newText</th>\n",
              "      <th>newSelection</th>\n",
              "    </tr>\n",
              "  </thead>\n",
              "  <tbody>\n",
              "    <tr>\n",
              "      <th>0</th>\n",
              "      <td>cb774db0d1</td>\n",
              "      <td>I`d have responded, if I were going</td>\n",
              "      <td>I`d have responded, if I were going</td>\n",
              "      <td>neutral</td>\n",
              "      <td>i`d have responded if i were going</td>\n",
              "      <td>i`d have responded if i were going</td>\n",
              "    </tr>\n",
              "    <tr>\n",
              "      <th>1</th>\n",
              "      <td>549e992a42</td>\n",
              "      <td>Sooo SAD I will miss you here in San Diego!!!</td>\n",
              "      <td>Sooo SAD</td>\n",
              "      <td>negative</td>\n",
              "      <td>so sad i will miss you here in san diego</td>\n",
              "      <td>so sad</td>\n",
              "    </tr>\n",
              "    <tr>\n",
              "      <th>2</th>\n",
              "      <td>088c60f138</td>\n",
              "      <td>my boss is bullying me...</td>\n",
              "      <td>bullying me</td>\n",
              "      <td>negative</td>\n",
              "      <td>my boss is bullying me</td>\n",
              "      <td>bullying me</td>\n",
              "    </tr>\n",
              "    <tr>\n",
              "      <th>3</th>\n",
              "      <td>9642c003ef</td>\n",
              "      <td>what interview! leave me alone</td>\n",
              "      <td>leave me alone</td>\n",
              "      <td>negative</td>\n",
              "      <td>what interview leave me alone</td>\n",
              "      <td>leave me alone</td>\n",
              "    </tr>\n",
              "    <tr>\n",
              "      <th>4</th>\n",
              "      <td>358bd9e861</td>\n",
              "      <td>Sons of ****, why couldn`t they put them on t...</td>\n",
              "      <td>Sons of ****,</td>\n",
              "      <td>negative</td>\n",
              "      <td>sons of  why couldn`t they put them on the re...</td>\n",
              "      <td>sons of</td>\n",
              "    </tr>\n",
              "  </tbody>\n",
              "</table>\n",
              "</div>"
            ],
            "text/plain": [
              "       textID  ...                        newSelection\n",
              "0  cb774db0d1  ...  i`d have responded if i were going\n",
              "1  549e992a42  ...                              so sad\n",
              "2  088c60f138  ...                         bullying me\n",
              "3  9642c003ef  ...                      leave me alone\n",
              "4  358bd9e861  ...                            sons of \n",
              "\n",
              "[5 rows x 6 columns]"
            ]
          },
          "metadata": {
            "tags": []
          },
          "execution_count": 211
        }
      ]
    },
    {
      "cell_type": "markdown",
      "metadata": {
        "id": "3UgYpK4sNpDG",
        "colab_type": "text"
      },
      "source": [
        "We know that our dataset is a little bit `imbalanced`. This casuistics usually give us some difficulties when we try to solve it with the common algorightms. Tipical algorithms tend to focus towards the majority class, and they often do not considerate the data distribution. A good solution to deal this issue is to `oversample` or `undersample` each class. <br>\n",
        "Nevertheless, as this is our first try, we are not going to change anything, just to see what happens.\n",
        "\n",
        "In most of NLP processes, tokenization and lemmatization is a must. Therefore, let's go ahead with them. <br>\n",
        "We are going to tokenize and lemmatize either the raw data (the one comming from the [Kaggle's competition](https://www.kaggle.com/c/tweet-sentiment-extraction)) and the traeted data _newText_ and _newSelection_ (result of cleaning all the not desired characters and applying a previous lemmatization)."
      ]
    },
    {
      "cell_type": "code",
      "metadata": {
        "id": "Y1mkdjyC-7gk",
        "colab_type": "code",
        "colab": {}
      },
      "source": [
        "def tokenization(text, n_gram=1):\n",
        "    token = [token for token in str(text).lower().split(\" \") if token != \"\" if token not in STOPWORDS]\n",
        "    myToken = zip(*[token[i:] for i in range(n_gram)])\n",
        "    return [\" \".join(val) for val in myToken]\n",
        "\n",
        "lemmatizer = WordNetLemmatizer()\n",
        "\n",
        "def lemmatization(tokens):\n",
        "    lemmatized_words = []\n",
        "    for val in tokens:\n",
        "        val = lemmatizer.lemmatize(val,pos =\"a\")\n",
        "        val = lemmatizer.lemmatize(val,pos =\"n\")\n",
        "        val = lemmatizer.lemmatize(val,pos =\"v\")\n",
        "        lemmatized_words.append(val)\n",
        "    return lemmatized_words"
      ],
      "execution_count": 0,
      "outputs": []
    },
    {
      "cell_type": "code",
      "metadata": {
        "id": "x34rYXOJQeRQ",
        "colab_type": "code",
        "colab": {}
      },
      "source": [
        "# Raw Data\n",
        "train['textToken'] = train['text'].apply(tokenization)\n",
        "train['selectedTextToken'] = train['selected_text'].apply(tokenization)\n",
        "train['textToken'] = train['textToken'].apply(lemmatization)\n",
        "train['selectedTextToken'] = train['selectedTextToken'].apply(lemmatization)\n",
        "\n",
        "# Treated Data\n",
        "train['newTextToken'] = train['newText'].apply(tokenization)\n",
        "train['newSelectedTextToken'] = train['newSelection'].apply(tokenization)\n",
        "train['newTextToken'] = train['newTextToken'].apply(lemmatization)\n",
        "train['newSelectedTextToken'] = train['newSelectedTextToken'].apply(lemmatization)"
      ],
      "execution_count": 0,
      "outputs": []
    },
    {
      "cell_type": "markdown",
      "metadata": {
        "id": "AuS-mDc6SF9-",
        "colab_type": "text"
      },
      "source": [
        "How similar are our `selected_text` and `newSelecttion` tokens?<br>\n",
        "Let's plot a simple graph to have an idea comparing their jaccard score."
      ]
    },
    {
      "cell_type": "code",
      "metadata": {
        "id": "3aS9eVG7QxSq",
        "colab_type": "code",
        "colab": {}
      },
      "source": [
        "def jaccardScore(a, b):  \n",
        "  try:\n",
        "    intersect = list(set(a).intersection(b)) # Common values between A and B\n",
        "    union = len(a) + len(b) - len(intersect) # Values of A and B witout commons\n",
        "    return round((len(intersect) / union), 2)\n",
        "  except: # For those cases in which our tweet is mainly composed of STOPWORDS\n",
        "    return 1"
      ],
      "execution_count": 0,
      "outputs": []
    },
    {
      "cell_type": "code",
      "metadata": {
        "id": "hLJ7KOcWS4Xs",
        "colab_type": "code",
        "colab": {}
      },
      "source": [
        "train['jaccScore'] = train.apply(lambda x: jaccardScore(x.selectedTextToken, x.newSelectedTextToken), axis=1)"
      ],
      "execution_count": 0,
      "outputs": []
    },
    {
      "cell_type": "code",
      "metadata": {
        "id": "sMmPeNnnS_xy",
        "colab_type": "code",
        "outputId": "8fe72ad7-4b84-47a0-ffc4-a5add818ecbc",
        "colab": {
          "base_uri": "https://localhost:8080/",
          "height": 427
        }
      },
      "source": [
        "plt.figure(figsize=(12,6))\n",
        "p1=sns.distplot(train[train['sentiment']=='positive']['jaccScore'], kde_kws={\"shade\": True}, color=\"g\", hist=False).set_title('Jaccard Scores across different Sentiments')\n",
        "p2=sns.distplot(train[train['sentiment']=='negative']['jaccScore'], kde_kws={\"shade\": True}, color=\"r\", hist=False)\n",
        "\n",
        "plt.legend(labels=['positive','negative'])"
      ],
      "execution_count": 216,
      "outputs": [
        {
          "output_type": "execute_result",
          "data": {
            "text/plain": [
              "<matplotlib.legend.Legend at 0x7fe754672f28>"
            ]
          },
          "metadata": {
            "tags": []
          },
          "execution_count": 216
        },
        {
          "output_type": "display_data",
          "data": {
            "image/png": "[encoded data removed]",
            "text/plain": [
              "<Figure size 864x432 with 1 Axes>"
            ]
          },
          "metadata": {
            "tags": []
          }
        }
      ]
    },
    {
      "cell_type": "markdown",
      "metadata": {
        "id": "B7liO4XLT5XV",
        "colab_type": "text"
      },
      "source": [
        "Interesting.<br>\n",
        "We can see that the jaccar score is well distributed, but in any case it behaves in the same way for positive and negative tweets. <br>\n",
        "Besides, is seems that in the majority of the cases our `newSelection` and `selection_text` have a high similarity.\n",
        "\n",
        "If we plot also neutral tweets, we can see that it's behavour is more arbitrary."
      ]
    },
    {
      "cell_type": "code",
      "metadata": {
        "id": "9GN3_Xs9UhBB",
        "colab_type": "code",
        "outputId": "5beb9abe-0cda-43a5-d075-88a9c37543e6",
        "colab": {
          "base_uri": "https://localhost:8080/",
          "height": 427
        }
      },
      "source": [
        "plt.figure(figsize=(12,6))\n",
        "p1=sns.distplot(train[train['sentiment']=='positive']['jaccScore'], kde_kws={\"shade\": True}, color=\"g\", hist=False).set_title('Jaccard Scores across different Sentiments')\n",
        "p2=sns.distplot(train[train['sentiment']=='negative']['jaccScore'], kde_kws={\"shade\": True}, color=\"r\", hist=False)\n",
        "p2=sns.distplot(train[train['sentiment']=='neutral']['jaccScore'], kde_kws={\"shade\": True}, color=\"orange\", hist=False)\n",
        "\n",
        "\n",
        "plt.legend(labels=['positive','negative', 'neutral'])"
      ],
      "execution_count": 217,
      "outputs": [
        {
          "output_type": "execute_result",
          "data": {
            "text/plain": [
              "<matplotlib.legend.Legend at 0x7fe75de2e390>"
            ]
          },
          "metadata": {
            "tags": []
          },
          "execution_count": 217
        },
        {
          "output_type": "display_data",
          "data": {
            "image/png": "[encoded data removed]",
            "text/plain": [
              "<Figure size 864x432 with 1 Axes>"
            ]
          },
          "metadata": {
            "tags": []
          }
        }
      ]
    },
    {
      "cell_type": "markdown",
      "metadata": {
        "id": "1IjeBynaKkHc",
        "colab_type": "text"
      },
      "source": [
        "We are going to try to get all the selected_words just using our tokens. <br>\n",
        "As we saw before, there is an interesting score value called `polarity_score`. It gives information about how positive, neutral or negative is a word. Besides, there is another metric `compound` which merges all the weights for the given word. \n",
        "\n",
        "By calculating our polarity score we might be able to achieve some kind of good result.<br>\n",
        "Firstly, we will tokenize our raw text __maintaning the STOPWORDS__. This time we want to keep all the data.<br>\n",
        "Secondly, we will divide our study in three main parts. The division will be performed by sentiment. As we have seen before, neutral sentiment tweets behave randomyl. Therefore we must analyze them separetly."
      ]
    },
    {
      "cell_type": "code",
      "metadata": {
        "id": "ghNhDz3w38BJ",
        "colab_type": "code",
        "colab": {}
      },
      "source": [
        "df = train[['text', 'selected_text', 'sentiment', 'newText', 'newSelection']]"
      ],
      "execution_count": 0,
      "outputs": []
    },
    {
      "cell_type": "code",
      "metadata": {
        "id": "uN7gLTT5CQVb",
        "colab_type": "code",
        "colab": {}
      },
      "source": [
        "class TweetPreparation():\n",
        "  def __init__(self, dataframe, rawText, tokens, newSelection):\n",
        "    self.df = dataframe\n",
        "    self.rawText = rawText\n",
        "    self.tokens = tokens\n",
        "    self.newSelection = newSelection\n",
        "\n",
        "  def tokenization(self, n_gram=1):\n",
        "    token = [token for token in str(self.df[self.rawText]).lower().split(\" \") if token != \"\"]\n",
        "    myToken = zip(*[token[i:] for i in range(n_gram)])\n",
        "    return [\" \".join(val) for val in myToken]\n",
        "\n",
        "  def sentiment_analyzer_scores(self):\n",
        "    scores = []\n",
        "    for word in self.tokens:\n",
        "      score = sid.polarity_scores(str(word))\n",
        "      score = score['compound']\n",
        "      scores.append(score)\n",
        "    return scores\n",
        "\n",
        "  def result(self):\n",
        "    self.df['token'] = self.df[self.rawText].apply(tokenization)\n",
        "    self.df['tokenScore'] = self.df['token'].apply(sentiment_analyzer_scores)\n",
        "    self.df['tokenLen'] = self.df['token'].apply(len)\n",
        "\n",
        "    self.df['selectedToken'] = self.df[self.newSelection].apply(tokenization)\n",
        "    self.df['selectedLen'] = self.df['selectedToken'].apply(len)\n",
        "    return self.df"
      ],
      "execution_count": 0,
      "outputs": []
    },
    {
      "cell_type": "code",
      "metadata": {
        "id": "84jymuchClmX",
        "colab_type": "code",
        "colab": {}
      },
      "source": [
        "data = TweetPreparation(dataframe=df, rawText='text', tokens='tokens', newSelection='newSelection')"
      ],
      "execution_count": 0,
      "outputs": []
    },
    {
      "cell_type": "code",
      "metadata": {
        "id": "TvUPnzjqC1QP",
        "colab_type": "code",
        "colab": {
          "base_uri": "https://localhost:8080/",
          "height": 589
        },
        "outputId": "9a14f15f-a2bc-4aec-e7c3-dde02f6f6696"
      },
      "source": [
        "df = data.result()\n",
        "df"
      ],
      "execution_count": 221,
      "outputs": [
        {
          "output_type": "execute_result",
          "data": {
            "text/html": [
              "<div>\n",
              "<style scoped>\n",
              "    .dataframe tbody tr th:only-of-type {\n",
              "        vertical-align: middle;\n",
              "    }\n",
              "\n",
              "    .dataframe tbody tr th {\n",
              "        vertical-align: top;\n",
              "    }\n",
              "\n",
              "    .dataframe thead th {\n",
              "        text-align: right;\n",
              "    }\n",
              "</style>\n",
              "<table border=\"1\" class=\"dataframe\">\n",
              "  <thead>\n",
              "    <tr style=\"text-align: right;\">\n",
              "      <th></th>\n",
              "      <th>text</th>\n",
              "      <th>selected_text</th>\n",
              "      <th>sentiment</th>\n",
              "      <th>newText</th>\n",
              "      <th>newSelection</th>\n",
              "      <th>token</th>\n",
              "      <th>tokenScore</th>\n",
              "      <th>tokenLen</th>\n",
              "      <th>selectedToken</th>\n",
              "      <th>selectedLen</th>\n",
              "    </tr>\n",
              "  </thead>\n",
              "  <tbody>\n",
              "    <tr>\n",
              "      <th>0</th>\n",
              "      <td>I`d have responded, if I were going</td>\n",
              "      <td>I`d have responded, if I were going</td>\n",
              "      <td>neutral</td>\n",
              "      <td>i`d have responded if i were going</td>\n",
              "      <td>i`d have responded if i were going</td>\n",
              "      <td>[i`d, responded,, going]</td>\n",
              "      <td>[0.0, 0.0, 0.0]</td>\n",
              "      <td>3</td>\n",
              "      <td>[i`d, responded, going]</td>\n",
              "      <td>3</td>\n",
              "    </tr>\n",
              "    <tr>\n",
              "      <th>1</th>\n",
              "      <td>Sooo SAD I will miss you here in San Diego!!!</td>\n",
              "      <td>Sooo SAD</td>\n",
              "      <td>negative</td>\n",
              "      <td>so sad i will miss you here in san diego</td>\n",
              "      <td>so sad</td>\n",
              "      <td>[sooo, sad, will, miss, san, diego!!!]</td>\n",
              "      <td>[0.0, -0.4767, 0.0, -0.1531, 0.0, 0.0]</td>\n",
              "      <td>6</td>\n",
              "      <td>[sad]</td>\n",
              "      <td>1</td>\n",
              "    </tr>\n",
              "    <tr>\n",
              "      <th>2</th>\n",
              "      <td>my boss is bullying me...</td>\n",
              "      <td>bullying me</td>\n",
              "      <td>negative</td>\n",
              "      <td>my boss is bullying me</td>\n",
              "      <td>bullying me</td>\n",
              "      <td>[boss, bullying, me...]</td>\n",
              "      <td>[0.0, -0.5994, 0.0]</td>\n",
              "      <td>3</td>\n",
              "      <td>[bullying]</td>\n",
              "      <td>1</td>\n",
              "    </tr>\n",
              "    <tr>\n",
              "      <th>3</th>\n",
              "      <td>what interview! leave me alone</td>\n",
              "      <td>leave me alone</td>\n",
              "      <td>negative</td>\n",
              "      <td>what interview leave me alone</td>\n",
              "      <td>leave me alone</td>\n",
              "      <td>[interview!, leave, alone]</td>\n",
              "      <td>[0.0, -0.0516, -0.25]</td>\n",
              "      <td>3</td>\n",
              "      <td>[leave, alone]</td>\n",
              "      <td>2</td>\n",
              "    </tr>\n",
              "    <tr>\n",
              "      <th>4</th>\n",
              "      <td>Sons of ****, why couldn`t they put them on t...</td>\n",
              "      <td>Sons of ****,</td>\n",
              "      <td>negative</td>\n",
              "      <td>sons of  why couldn`t they put them on the re...</td>\n",
              "      <td>sons of</td>\n",
              "      <td>[sons, ****,, couldn`t, put, releases, already...</td>\n",
              "      <td>[0.0, 0.0, 0.0, 0.0, 0.0, 0.0, 0.0]</td>\n",
              "      <td>7</td>\n",
              "      <td>[sons]</td>\n",
              "      <td>1</td>\n",
              "    </tr>\n",
              "    <tr>\n",
              "      <th>...</th>\n",
              "      <td>...</td>\n",
              "      <td>...</td>\n",
              "      <td>...</td>\n",
              "      <td>...</td>\n",
              "      <td>...</td>\n",
              "      <td>...</td>\n",
              "      <td>...</td>\n",
              "      <td>...</td>\n",
              "      <td>...</td>\n",
              "      <td>...</td>\n",
              "    </tr>\n",
              "    <tr>\n",
              "      <th>27475</th>\n",
              "      <td>wish we could come see u on Denver  husband l...</td>\n",
              "      <td>d lost</td>\n",
              "      <td>negative</td>\n",
              "      <td>wish we could come see u on denver  husband l...</td>\n",
              "      <td>d lost</td>\n",
              "      <td>[wish, come, see, u, denver, husband, lost, jo...</td>\n",
              "      <td>[0.4019, 0.0, 0.0, 0.0, 0.0, 0.0, -0.3182, 0.0...</td>\n",
              "      <td>10</td>\n",
              "      <td>[d, lost]</td>\n",
              "      <td>2</td>\n",
              "    </tr>\n",
              "    <tr>\n",
              "      <th>27476</th>\n",
              "      <td>I`ve wondered about rake to.  The client has ...</td>\n",
              "      <td>, don`t force</td>\n",
              "      <td>negative</td>\n",
              "      <td>i`ve wondered about rake to  the client has m...</td>\n",
              "      <td>don`t force</td>\n",
              "      <td>[i`ve, wondered, rake, to., client, made, clea...</td>\n",
              "      <td>[0.0, 0.0, 0.0, 0.0, 0.0, 0.0, 0.3818, 0.0, 0....</td>\n",
              "      <td>17</td>\n",
              "      <td>[don`t, force]</td>\n",
              "      <td>2</td>\n",
              "    </tr>\n",
              "    <tr>\n",
              "      <th>27477</th>\n",
              "      <td>Yay good for both of you. Enjoy the break - y...</td>\n",
              "      <td>Yay good for both of you.</td>\n",
              "      <td>positive</td>\n",
              "      <td>yay good for both of you enjoy the break  you...</td>\n",
              "      <td>yay good for both of you</td>\n",
              "      <td>[yay, good, you., enjoy, break, -, probably, n...</td>\n",
              "      <td>[0.5267, 0.4404, 0.0, 0.4939, 0.0, 0.0, 0.0, 0...</td>\n",
              "      <td>14</td>\n",
              "      <td>[yay, good]</td>\n",
              "      <td>2</td>\n",
              "    </tr>\n",
              "    <tr>\n",
              "      <th>27478</th>\n",
              "      <td>But it was worth it  ****.</td>\n",
              "      <td>But it was worth it  ****.</td>\n",
              "      <td>positive</td>\n",
              "      <td>but it was worth it</td>\n",
              "      <td>but it was worth it</td>\n",
              "      <td>[worth, ****.]</td>\n",
              "      <td>[0.2263, 0.0]</td>\n",
              "      <td>2</td>\n",
              "      <td>[worth]</td>\n",
              "      <td>1</td>\n",
              "    </tr>\n",
              "    <tr>\n",
              "      <th>27479</th>\n",
              "      <td>All this flirting going on - The ATG smiles...</td>\n",
              "      <td>All this flirting going on - The ATG smiles. Y...</td>\n",
              "      <td>neutral</td>\n",
              "      <td>all this flirting going on  the atg smiles ...</td>\n",
              "      <td>all this flirting going on  the atg smiles yay...</td>\n",
              "      <td>[flirting, going, -, atg, smiles., yay., ((hug...</td>\n",
              "      <td>[0.2023, 0.0, 0.0, 0.0, 0.4767, 0.5267, 0.0]</td>\n",
              "      <td>7</td>\n",
              "      <td>[flirting, going, atg, smiles, yay, hugs]</td>\n",
              "      <td>6</td>\n",
              "    </tr>\n",
              "  </tbody>\n",
              "</table>\n",
              "<p>27480 rows × 10 columns</p>\n",
              "</div>"
            ],
            "text/plain": [
              "                                                    text  ... selectedLen\n",
              "0                    I`d have responded, if I were going  ...           3\n",
              "1          Sooo SAD I will miss you here in San Diego!!!  ...           1\n",
              "2                              my boss is bullying me...  ...           1\n",
              "3                         what interview! leave me alone  ...           2\n",
              "4       Sons of ****, why couldn`t they put them on t...  ...           1\n",
              "...                                                  ...  ...         ...\n",
              "27475   wish we could come see u on Denver  husband l...  ...           2\n",
              "27476   I`ve wondered about rake to.  The client has ...  ...           2\n",
              "27477   Yay good for both of you. Enjoy the break - y...  ...           2\n",
              "27478                         But it was worth it  ****.  ...           1\n",
              "27479     All this flirting going on - The ATG smiles...  ...           6\n",
              "\n",
              "[27480 rows x 10 columns]"
            ]
          },
          "metadata": {
            "tags": []
          },
          "execution_count": 221
        }
      ]
    },
    {
      "cell_type": "markdown",
      "metadata": {
        "id": "ucCzAFFlMq9e",
        "colab_type": "text"
      },
      "source": [
        "For each token we want to calculate its polarity score. \n",
        "If the tweet is positive or negative, we will focus on those scores that have the highest value. That value would be key for determining from where do we start getting our first seelcted word. With neutral tweets it will be more complicated.\n",
        "\n",
        "However, how do we know how many words do we need to get? This is difficult to answer.<br>\n",
        "For the moment, we will try to plot if there is any realtion between the `selected_text` and the `text` lengths. "
      ]
    },
    {
      "cell_type": "markdown",
      "metadata": {
        "id": "5B29jtgCLuTN",
        "colab_type": "text"
      },
      "source": [
        "### Positive"
      ]
    },
    {
      "cell_type": "code",
      "metadata": {
        "id": "q_10h_F9MTJi",
        "colab_type": "code",
        "colab": {}
      },
      "source": [
        "df1 = df[df.sentiment=='positive']"
      ],
      "execution_count": 0,
      "outputs": []
    },
    {
      "cell_type": "code",
      "metadata": {
        "id": "gpCK3w8-QOU_",
        "colab_type": "code",
        "colab": {}
      },
      "source": [
        "df2 = df1.groupby(['tokenLen'])['tokenLen','selectedLen'].mean()"
      ],
      "execution_count": 0,
      "outputs": []
    },
    {
      "cell_type": "code",
      "metadata": {
        "id": "uBiB-NflM5Ra",
        "colab_type": "code",
        "outputId": "cf862cff-388c-491e-e907-6b1e7e3d9e30",
        "colab": {
          "base_uri": "https://localhost:8080/",
          "height": 483
        }
      },
      "source": [
        "my_palette = sns.color_palette(\"muted\")\n",
        "sns.set(rc={'figure.figsize':(10, 7)})\n",
        "sns.lineplot(x='tokenLen', y=\"selectedLen\", data=df2, palette=my_palette) .set_title('Tweet length V.S. selected_text mean', fontsize=16)"
      ],
      "execution_count": 224,
      "outputs": [
        {
          "output_type": "execute_result",
          "data": {
            "text/plain": [
              "Text(0.5, 1.0, 'Tweet length V.S. selected_text mean')"
            ]
          },
          "metadata": {
            "tags": []
          },
          "execution_count": 224
        },
        {
          "output_type": "display_data",
          "data": {
            "image/png": "[encoded data removed]",
            "text/plain": [
              "<Figure size 720x504 with 1 Axes>"
            ]
          },
          "metadata": {
            "tags": []
          }
        }
      ]
    },
    {
      "cell_type": "markdown",
      "metadata": {
        "id": "TWO27WUGE5nQ",
        "colab_type": "text"
      },
      "source": [
        "For each different length of out tweets, we have calculated the mean value of the selected text. This is crucial to know how many words should we take. For example, tweets with 15 tokens have a mean of 4 words in their __selected_test__. This can be helptful in our selection.\n",
        "\n",
        "We have the `polarity_score` for each of our tokens in our tweet. Let's try to get the key words.<br>\n",
        "Through the function `decider` we: get the maximum score in our set of tokens (we suposse that this will be the key word). Then, through the calculus of the mean for the current tweet lenght, we will get all the words.<br>\n",
        "The result must be checked with the selected_text to see if finally we have end up with something. "
      ]
    },
    {
      "cell_type": "code",
      "metadata": {
        "id": "5l0NyU2THz7w",
        "colab_type": "code",
        "colab": {}
      },
      "source": [
        "def decider(tokensScore, tokenLen, token):\n",
        "  #tokenScore: polarity of each token from our tweet.\n",
        "  #tokenLen: length of our token\n",
        "  values = tokensScore\n",
        "  print(token)\n",
        "  # if sentiment == 'positive':\n",
        "  #   values = [item for item in tokensScore if item >= 0]\n",
        "  try:\n",
        "    maxVal = max(values)\n",
        "  except:\n",
        "    maxVal = values[0]\n",
        "  indexMax = tokensScore.index(maxVal)\n",
        "  \n",
        "  #length of the selected_text that we must use\n",
        "  meanWords = int(df2[df2.tokenLen==tokenLen]['selectedLen'])\n",
        "\n",
        "  st = {}\n",
        "  st[indexMax] = token[indexMax]\n",
        "\n",
        "  index = indexMax\n",
        "  count = 0\n",
        "  for val in range(1, meanWords):\n",
        "    if count % 2 == 0:\n",
        "      index = index + val\n",
        "    else: \n",
        "      index = index - val\n",
        "    \n",
        "    try:\n",
        "      st[index] = token[index]\n",
        "      count += 1\n",
        "    except IndexError: # in case our index over pass\n",
        "      position = len(token) - index\n",
        "      if position <= 0: # end of array\n",
        "        newIndex = len(token) - (val +1)\n",
        "      elif position > 0: # begining of array\n",
        "        newIndex = val\n",
        "        count += 1\n",
        "      # print(token)\n",
        "      st[newIndex] = token[newIndex]\n",
        "  \n",
        "  return list(collections.OrderedDict(sorted(st.items())).values())"
      ],
      "execution_count": 0,
      "outputs": []
    },
    {
      "cell_type": "code",
      "metadata": {
        "id": "HXDPrIh4bc1z",
        "colab_type": "code",
        "colab": {
          "base_uri": "https://localhost:8080/",
          "height": 493
        },
        "outputId": "1f427834-61d3-4053-d117-71c8fd917e13"
      },
      "source": [
        "df1['result'] = df1.apply(lambda x: decider(tokensScore=x.tokenScore, \n",
        "                                            tokenLen=x.tokenLen, \n",
        "                                            token=x.token), axis=1)"
      ],
      "execution_count": 230,
      "outputs": [
        {
          "output_type": "error",
          "ename": "IndexError",
          "evalue": "ignored",
          "traceback": [
            "\u001b[0;31m---------------------------------------------------------------------------\u001b[0m",
            "\u001b[0;31mValueError\u001b[0m                                Traceback (most recent call last)",
            "\u001b[0;32m<ipython-input-229-0f5aeb18a4ee>\u001b[0m in \u001b[0;36mdecider\u001b[0;34m(tokensScore, tokenLen, token)\u001b[0m\n\u001b[1;32m      7\u001b[0m   \u001b[0;32mtry\u001b[0m\u001b[0;34m:\u001b[0m\u001b[0;34m\u001b[0m\u001b[0;34m\u001b[0m\u001b[0m\n\u001b[0;32m----> 8\u001b[0;31m     \u001b[0mmaxVal\u001b[0m \u001b[0;34m=\u001b[0m \u001b[0mmax\u001b[0m\u001b[0;34m(\u001b[0m\u001b[0mvalues\u001b[0m\u001b[0;34m)\u001b[0m\u001b[0;34m\u001b[0m\u001b[0;34m\u001b[0m\u001b[0m\n\u001b[0m\u001b[1;32m      9\u001b[0m   \u001b[0;32mexcept\u001b[0m\u001b[0;34m:\u001b[0m\u001b[0;34m\u001b[0m\u001b[0;34m\u001b[0m\u001b[0m\n",
            "\u001b[0;31mValueError\u001b[0m: max() arg is an empty sequence",
            "\nDuring handling of the above exception, another exception occurred:\n",
            "\u001b[0;31mIndexError\u001b[0m                                Traceback (most recent call last)",
            "\u001b[0;32m<ipython-input-230-0d0d3ad0e56c>\u001b[0m in \u001b[0;36m<module>\u001b[0;34m()\u001b[0m\n\u001b[1;32m      1\u001b[0m df1['result'] = df1.apply(lambda x: decider(tokensScore=x.tokenScore, \n\u001b[1;32m      2\u001b[0m                                             \u001b[0mtokenLen\u001b[0m\u001b[0;34m=\u001b[0m\u001b[0mx\u001b[0m\u001b[0;34m.\u001b[0m\u001b[0mtokenLen\u001b[0m\u001b[0;34m,\u001b[0m\u001b[0;34m\u001b[0m\u001b[0;34m\u001b[0m\u001b[0m\n\u001b[0;32m----> 3\u001b[0;31m                                             token=x.token), axis=1)\n\u001b[0m",
            "\u001b[0;32m/usr/local/lib/python3.6/dist-packages/pandas/core/frame.py\u001b[0m in \u001b[0;36mapply\u001b[0;34m(self, func, axis, raw, result_type, args, **kwds)\u001b[0m\n\u001b[1;32m   6876\u001b[0m             \u001b[0mkwds\u001b[0m\u001b[0;34m=\u001b[0m\u001b[0mkwds\u001b[0m\u001b[0;34m,\u001b[0m\u001b[0;34m\u001b[0m\u001b[0;34m\u001b[0m\u001b[0m\n\u001b[1;32m   6877\u001b[0m         )\n\u001b[0;32m-> 6878\u001b[0;31m         \u001b[0;32mreturn\u001b[0m \u001b[0mop\u001b[0m\u001b[0;34m.\u001b[0m\u001b[0mget_result\u001b[0m\u001b[0;34m(\u001b[0m\u001b[0;34m)\u001b[0m\u001b[0;34m\u001b[0m\u001b[0;34m\u001b[0m\u001b[0m\n\u001b[0m\u001b[1;32m   6879\u001b[0m \u001b[0;34m\u001b[0m\u001b[0m\n\u001b[1;32m   6880\u001b[0m     \u001b[0;32mdef\u001b[0m \u001b[0mapplymap\u001b[0m\u001b[0;34m(\u001b[0m\u001b[0mself\u001b[0m\u001b[0;34m,\u001b[0m \u001b[0mfunc\u001b[0m\u001b[0;34m)\u001b[0m \u001b[0;34m->\u001b[0m \u001b[0;34m\"DataFrame\"\u001b[0m\u001b[0;34m:\u001b[0m\u001b[0;34m\u001b[0m\u001b[0;34m\u001b[0m\u001b[0m\n",
            "\u001b[0;32m/usr/local/lib/python3.6/dist-packages/pandas/core/apply.py\u001b[0m in \u001b[0;36mget_result\u001b[0;34m(self)\u001b[0m\n\u001b[1;32m    184\u001b[0m             \u001b[0;32mreturn\u001b[0m \u001b[0mself\u001b[0m\u001b[0;34m.\u001b[0m\u001b[0mapply_raw\u001b[0m\u001b[0;34m(\u001b[0m\u001b[0;34m)\u001b[0m\u001b[0;34m\u001b[0m\u001b[0;34m\u001b[0m\u001b[0m\n\u001b[1;32m    185\u001b[0m \u001b[0;34m\u001b[0m\u001b[0m\n\u001b[0;32m--> 186\u001b[0;31m         \u001b[0;32mreturn\u001b[0m \u001b[0mself\u001b[0m\u001b[0;34m.\u001b[0m\u001b[0mapply_standard\u001b[0m\u001b[0;34m(\u001b[0m\u001b[0;34m)\u001b[0m\u001b[0;34m\u001b[0m\u001b[0;34m\u001b[0m\u001b[0m\n\u001b[0m\u001b[1;32m    187\u001b[0m \u001b[0;34m\u001b[0m\u001b[0m\n\u001b[1;32m    188\u001b[0m     \u001b[0;32mdef\u001b[0m \u001b[0mapply_empty_result\u001b[0m\u001b[0;34m(\u001b[0m\u001b[0mself\u001b[0m\u001b[0;34m)\u001b[0m\u001b[0;34m:\u001b[0m\u001b[0;34m\u001b[0m\u001b[0;34m\u001b[0m\u001b[0m\n",
            "\u001b[0;32m/usr/local/lib/python3.6/dist-packages/pandas/core/apply.py\u001b[0m in \u001b[0;36mapply_standard\u001b[0;34m(self)\u001b[0m\n\u001b[1;32m    294\u001b[0m             \u001b[0;32mtry\u001b[0m\u001b[0;34m:\u001b[0m\u001b[0;34m\u001b[0m\u001b[0;34m\u001b[0m\u001b[0m\n\u001b[1;32m    295\u001b[0m                 result = libreduction.compute_reduction(\n\u001b[0;32m--> 296\u001b[0;31m                     \u001b[0mvalues\u001b[0m\u001b[0;34m,\u001b[0m \u001b[0mself\u001b[0m\u001b[0;34m.\u001b[0m\u001b[0mf\u001b[0m\u001b[0;34m,\u001b[0m \u001b[0maxis\u001b[0m\u001b[0;34m=\u001b[0m\u001b[0mself\u001b[0m\u001b[0;34m.\u001b[0m\u001b[0maxis\u001b[0m\u001b[0;34m,\u001b[0m \u001b[0mdummy\u001b[0m\u001b[0;34m=\u001b[0m\u001b[0mdummy\u001b[0m\u001b[0;34m,\u001b[0m \u001b[0mlabels\u001b[0m\u001b[0;34m=\u001b[0m\u001b[0mlabels\u001b[0m\u001b[0;34m\u001b[0m\u001b[0;34m\u001b[0m\u001b[0m\n\u001b[0m\u001b[1;32m    297\u001b[0m                 )\n\u001b[1;32m    298\u001b[0m             \u001b[0;32mexcept\u001b[0m \u001b[0mValueError\u001b[0m \u001b[0;32mas\u001b[0m \u001b[0merr\u001b[0m\u001b[0;34m:\u001b[0m\u001b[0;34m\u001b[0m\u001b[0;34m\u001b[0m\u001b[0m\n",
            "\u001b[0;32mpandas/_libs/reduction.pyx\u001b[0m in \u001b[0;36mpandas._libs.reduction.compute_reduction\u001b[0;34m()\u001b[0m\n",
            "\u001b[0;32mpandas/_libs/reduction.pyx\u001b[0m in \u001b[0;36mpandas._libs.reduction.Reducer.get_result\u001b[0;34m()\u001b[0m\n",
            "\u001b[0;32m<ipython-input-230-0d0d3ad0e56c>\u001b[0m in \u001b[0;36m<lambda>\u001b[0;34m(x)\u001b[0m\n\u001b[1;32m      1\u001b[0m df1['result'] = df1.apply(lambda x: decider(tokensScore=x.tokenScore, \n\u001b[1;32m      2\u001b[0m                                             \u001b[0mtokenLen\u001b[0m\u001b[0;34m=\u001b[0m\u001b[0mx\u001b[0m\u001b[0;34m.\u001b[0m\u001b[0mtokenLen\u001b[0m\u001b[0;34m,\u001b[0m\u001b[0;34m\u001b[0m\u001b[0;34m\u001b[0m\u001b[0m\n\u001b[0;32m----> 3\u001b[0;31m                                             token=x.token), axis=1)\n\u001b[0m",
            "\u001b[0;32m<ipython-input-229-0f5aeb18a4ee>\u001b[0m in \u001b[0;36mdecider\u001b[0;34m(tokensScore, tokenLen, token)\u001b[0m\n\u001b[1;32m      8\u001b[0m     \u001b[0mmaxVal\u001b[0m \u001b[0;34m=\u001b[0m \u001b[0mmax\u001b[0m\u001b[0;34m(\u001b[0m\u001b[0mvalues\u001b[0m\u001b[0;34m)\u001b[0m\u001b[0;34m\u001b[0m\u001b[0;34m\u001b[0m\u001b[0m\n\u001b[1;32m      9\u001b[0m   \u001b[0;32mexcept\u001b[0m\u001b[0;34m:\u001b[0m\u001b[0;34m\u001b[0m\u001b[0;34m\u001b[0m\u001b[0m\n\u001b[0;32m---> 10\u001b[0;31m     \u001b[0mmaxVal\u001b[0m \u001b[0;34m=\u001b[0m \u001b[0mvalues\u001b[0m\u001b[0;34m[\u001b[0m\u001b[0;36m0\u001b[0m\u001b[0;34m]\u001b[0m\u001b[0;34m\u001b[0m\u001b[0;34m\u001b[0m\u001b[0m\n\u001b[0m\u001b[1;32m     11\u001b[0m   \u001b[0mindexMax\u001b[0m \u001b[0;34m=\u001b[0m \u001b[0mtokensScore\u001b[0m\u001b[0;34m.\u001b[0m\u001b[0mindex\u001b[0m\u001b[0;34m(\u001b[0m\u001b[0mmaxVal\u001b[0m\u001b[0;34m)\u001b[0m\u001b[0;34m\u001b[0m\u001b[0;34m\u001b[0m\u001b[0m\n\u001b[1;32m     12\u001b[0m \u001b[0;34m\u001b[0m\u001b[0m\n",
            "\u001b[0;31mIndexError\u001b[0m: list index out of range"
          ]
        }
      ]
    },
    {
      "cell_type": "code",
      "metadata": {
        "id": "GaRzPrMHyrp2",
        "colab_type": "code",
        "colab": {}
      },
      "source": [
        "def checker(selectedToken, result):\n",
        "  avg = 0\n",
        "  for val in selectedToken:\n",
        "    if val in result:\n",
        "      avg = avg + 1\n",
        "  return avg"
      ],
      "execution_count": 0,
      "outputs": []
    },
    {
      "cell_type": "code",
      "metadata": {
        "id": "T9Oq2hp_P5Ek",
        "colab_type": "code",
        "colab": {}
      },
      "source": [
        "df1['avg'] = df1.apply(lambda x: checker(selectedToken=x.selectedToken, result=x.result), axis=1)\n",
        "print(df1['avg'].mean())"
      ],
      "execution_count": 0,
      "outputs": []
    },
    {
      "cell_type": "markdown",
      "metadata": {
        "id": "ZKmYWGrOFNwb",
        "colab_type": "text"
      },
      "source": [
        "Almost 60% of our calculated sentiment_data is correct. <br>\n",
        "Let's see what happens if we perform this analysis to all the dataset, no matter the sentiment"
      ]
    },
    {
      "cell_type": "code",
      "metadata": {
        "id": "VkDXSYoWOpF7",
        "colab_type": "code",
        "colab": {}
      },
      "source": [
        "def decider(tokensScore, tokenLen, token, sentiment):\n",
        "  #length of the selected_text that we must use\n",
        "  meanWords = int(df2[df2.tokenLen==tokenLen]['selectedLen'])\n",
        "\n",
        "  #tokenScore: polarity of each token from our tweet.\n",
        "  #tokenLen: length of our token\n",
        "  values = tokensScore\n",
        "  if sentiment == 'positive':\n",
        "    values = [item for item in tokensScore if item >= 0]\n",
        "  elif sentiment == 'negative':\n",
        "    values = [item for item in tokensScore if item <= 0]\n",
        "\n",
        "  if len(values) == 0:\n",
        "    maxVal = min(tokensScore)\n",
        "  else:\n",
        "    maxVal = max(values)\n",
        "\n",
        "  if np.mean(tokensScore) == 0:\n",
        "    return token[0:meanWords]\n",
        "  indexMax = tokensScore.index(maxVal)\n",
        "  \n",
        "  st = {}\n",
        "  st[indexMax] = token[indexMax]\n",
        "\n",
        "  index = indexMax\n",
        "  count = 0\n",
        "  for val in range(1, meanWords):\n",
        "    if count % 2 == 0:\n",
        "      index = index + val\n",
        "    else: \n",
        "      index = index - val\n",
        "    \n",
        "    try:\n",
        "      st[index] = token[index]\n",
        "      count += 1\n",
        "    except IndexError: # in case our index over pass\n",
        "      position = len(token) - index\n",
        "      if position <= 0: # end of array\n",
        "        newIndex = len(token) - (val +1)\n",
        "      elif position > 0: # begining of array\n",
        "        newIndex = val\n",
        "        count += 1\n",
        "      # print(token)\n",
        "      st[newIndex] = token[newIndex]\n",
        "  \n",
        "  return list(collections.OrderedDict(sorted(st.items())).values())"
      ],
      "execution_count": 0,
      "outputs": []
    },
    {
      "cell_type": "code",
      "metadata": {
        "id": "6EaIsEPoFrW9",
        "colab_type": "code",
        "colab": {}
      },
      "source": [
        "df = df.drop(index=[8119, 26004]) # These values have no words\n",
        "\n",
        "df2 = df.groupby(['tokenLen'])['tokenLen','selectedLen'].mean()"
      ],
      "execution_count": 0,
      "outputs": []
    },
    {
      "cell_type": "code",
      "metadata": {
        "id": "y6cSQJM4Gj3g",
        "colab_type": "code",
        "colab": {}
      },
      "source": [
        "df['result'] = df.apply(lambda x: decider(tokensScore=x.tokenScore, \n",
        "                                            tokenLen=x.tokenLen, \n",
        "                                            token=x.token, \n",
        "                                            sentiment=x.sentiment), axis=1)"
      ],
      "execution_count": 0,
      "outputs": []
    },
    {
      "cell_type": "code",
      "metadata": {
        "id": "q9kaxNJIGoX8",
        "colab_type": "code",
        "colab": {}
      },
      "source": [
        "df['avg'] = df.apply(lambda x: checker(selectedToken=x.selectedToken, result=x.result), axis=1)\n",
        "print(df['avg'].mean())"
      ],
      "execution_count": 0,
      "outputs": []
    },
    {
      "cell_type": "markdown",
      "metadata": {
        "id": "XKqXK9rML6jX",
        "colab_type": "text"
      },
      "source": [
        "\n",
        "\n",
        "63% of our result have some match. However, they do not match perfectly. As we have based our selection of _key words_ on the mean value for the tweet length, we might be taken (or not) values that are not necessary. <br>\n",
        "For example, our tweet could be \"I am supper happy today\". This (if we tokenize, without STOPWORDS) we would get five tokens. Perhaps, the mean values for all tweets with length equal to five is three. So, if the key word is __happy__, them our result would be __super happy today__. In this case, although _supper happy_ might be correct, _today_ is an irrelevant words that it might \"oversampled\" our result. <br>\n",
        "\n",
        "Lets try to try to have a moe accurrate result. If our __result__ represents more than the 50% of the total tweet, we will consider that we must have to take the whole tweet."
      ]
    },
    {
      "cell_type": "code",
      "metadata": {
        "id": "L8ujRufZNLHw",
        "colab_type": "code",
        "colab": {}
      },
      "source": [
        "def selectorCheck(result, token):\n",
        "  if len(result) / len(token) > 0.637:\n",
        "    return token\n",
        "  else:\n",
        "    return result"
      ],
      "execution_count": 0,
      "outputs": []
    },
    {
      "cell_type": "code",
      "metadata": {
        "id": "FxNqvOCXqWjs",
        "colab_type": "code",
        "colab": {}
      },
      "source": [
        "df['result'] = df.apply(lambda x: selectorCheck(x.result, x.token), axis=1)\n",
        "df['avg'] = df.apply(lambda x: checker(selectedToken=x.selectedToken, result=x.result), axis=1)\n",
        "print(df['avg'].mean())"
      ],
      "execution_count": 0,
      "outputs": []
    },
    {
      "cell_type": "code",
      "metadata": {
        "id": "cO6-EFp5qgHp",
        "colab_type": "code",
        "colab": {}
      },
      "source": [
        "df"
      ],
      "execution_count": 0,
      "outputs": []
    }
  ]
}